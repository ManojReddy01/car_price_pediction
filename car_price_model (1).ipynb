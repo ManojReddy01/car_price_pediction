{
 "cells": [
  {
   "cell_type": "code",
   "execution_count": 1,
   "id": "4e7fc3ff-0d4f-4ba4-b22d-6e9a2bedc007",
   "metadata": {},
   "outputs": [],
   "source": [
    "import numpy as np\n",
    "import pandas as pd\n",
    "import matplotlib.pyplot as plt\n",
    "import seaborn as sns"
   ]
  },
  {
   "cell_type": "code",
   "execution_count": 2,
   "id": "c836d67d-b604-4500-98e4-0c01e905028d",
   "metadata": {},
   "outputs": [
    {
     "data": {
      "text/html": [
       "<div>\n",
       "<style scoped>\n",
       "    .dataframe tbody tr th:only-of-type {\n",
       "        vertical-align: middle;\n",
       "    }\n",
       "\n",
       "    .dataframe tbody tr th {\n",
       "        vertical-align: top;\n",
       "    }\n",
       "\n",
       "    .dataframe thead th {\n",
       "        text-align: right;\n",
       "    }\n",
       "</style>\n",
       "<table border=\"1\" class=\"dataframe\">\n",
       "  <thead>\n",
       "    <tr style=\"text-align: right;\">\n",
       "      <th></th>\n",
       "      <th>Index</th>\n",
       "      <th>Make</th>\n",
       "      <th>Size</th>\n",
       "      <th>Color</th>\n",
       "      <th>Category</th>\n",
       "      <th>Condition</th>\n",
       "      <th>Odometer</th>\n",
       "      <th>Doors</th>\n",
       "      <th>Price</th>\n",
       "    </tr>\n",
       "  </thead>\n",
       "  <tbody>\n",
       "    <tr>\n",
       "      <th>0</th>\n",
       "      <td>1</td>\n",
       "      <td>Honda</td>\n",
       "      <td>Medium</td>\n",
       "      <td>White</td>\n",
       "      <td>Medium</td>\n",
       "      <td>Good</td>\n",
       "      <td>35431.0</td>\n",
       "      <td>4</td>\n",
       "      <td>15323</td>\n",
       "    </tr>\n",
       "    <tr>\n",
       "      <th>1</th>\n",
       "      <td>2</td>\n",
       "      <td>BMW</td>\n",
       "      <td>Large</td>\n",
       "      <td>Blue</td>\n",
       "      <td>Medium</td>\n",
       "      <td>Old</td>\n",
       "      <td>192714.0</td>\n",
       "      <td>5</td>\n",
       "      <td>19943</td>\n",
       "    </tr>\n",
       "    <tr>\n",
       "      <th>2</th>\n",
       "      <td>3</td>\n",
       "      <td>Honda</td>\n",
       "      <td>Medium</td>\n",
       "      <td>White</td>\n",
       "      <td>Expensive</td>\n",
       "      <td>Good</td>\n",
       "      <td>84714.0</td>\n",
       "      <td>4</td>\n",
       "      <td>28343</td>\n",
       "    </tr>\n",
       "    <tr>\n",
       "      <th>3</th>\n",
       "      <td>4</td>\n",
       "      <td>Toyota</td>\n",
       "      <td>Medium</td>\n",
       "      <td>White</td>\n",
       "      <td>Medium</td>\n",
       "      <td>Old</td>\n",
       "      <td>154365.0</td>\n",
       "      <td>4</td>\n",
       "      <td>13434</td>\n",
       "    </tr>\n",
       "    <tr>\n",
       "      <th>4</th>\n",
       "      <td>5</td>\n",
       "      <td>Nissan</td>\n",
       "      <td>Small</td>\n",
       "      <td>Blue</td>\n",
       "      <td>Medium</td>\n",
       "      <td>Old</td>\n",
       "      <td>181577.0</td>\n",
       "      <td>3</td>\n",
       "      <td>14043</td>\n",
       "    </tr>\n",
       "  </tbody>\n",
       "</table>\n",
       "</div>"
      ],
      "text/plain": [
       "   Index    Make    Size  Color   Category Condition  Odometer  Doors  Price\n",
       "0      1   Honda  Medium  White     Medium      Good   35431.0      4  15323\n",
       "1      2     BMW   Large   Blue     Medium       Old  192714.0      5  19943\n",
       "2      3   Honda  Medium  White  Expensive      Good   84714.0      4  28343\n",
       "3      4  Toyota  Medium  White     Medium       Old  154365.0      4  13434\n",
       "4      5  Nissan   Small   Blue     Medium       Old  181577.0      3  14043"
      ]
     },
     "execution_count": 2,
     "metadata": {},
     "output_type": "execute_result"
    }
   ],
   "source": [
    "data=pd.read_csv(r\"C:\\Users\\91950\\Desktop\\cardata.csv\")\n",
    "data.head()"
   ]
  },
  {
   "cell_type": "code",
   "execution_count": 3,
   "id": "ca384664-9530-42b1-8ca6-8d160a42308c",
   "metadata": {},
   "outputs": [
    {
     "data": {
      "text/html": [
       "<div>\n",
       "<style scoped>\n",
       "    .dataframe tbody tr th:only-of-type {\n",
       "        vertical-align: middle;\n",
       "    }\n",
       "\n",
       "    .dataframe tbody tr th {\n",
       "        vertical-align: top;\n",
       "    }\n",
       "\n",
       "    .dataframe thead th {\n",
       "        text-align: right;\n",
       "    }\n",
       "</style>\n",
       "<table border=\"1\" class=\"dataframe\">\n",
       "  <thead>\n",
       "    <tr style=\"text-align: right;\">\n",
       "      <th></th>\n",
       "      <th>Index</th>\n",
       "      <th>Make</th>\n",
       "      <th>Size</th>\n",
       "      <th>Color</th>\n",
       "      <th>Category</th>\n",
       "      <th>Condition</th>\n",
       "      <th>Odometer</th>\n",
       "      <th>Doors</th>\n",
       "      <th>Price</th>\n",
       "    </tr>\n",
       "  </thead>\n",
       "  <tbody>\n",
       "    <tr>\n",
       "      <th>0</th>\n",
       "      <td>False</td>\n",
       "      <td>False</td>\n",
       "      <td>False</td>\n",
       "      <td>False</td>\n",
       "      <td>False</td>\n",
       "      <td>False</td>\n",
       "      <td>False</td>\n",
       "      <td>False</td>\n",
       "      <td>False</td>\n",
       "    </tr>\n",
       "    <tr>\n",
       "      <th>1</th>\n",
       "      <td>False</td>\n",
       "      <td>False</td>\n",
       "      <td>False</td>\n",
       "      <td>False</td>\n",
       "      <td>False</td>\n",
       "      <td>False</td>\n",
       "      <td>False</td>\n",
       "      <td>False</td>\n",
       "      <td>False</td>\n",
       "    </tr>\n",
       "    <tr>\n",
       "      <th>2</th>\n",
       "      <td>False</td>\n",
       "      <td>False</td>\n",
       "      <td>False</td>\n",
       "      <td>False</td>\n",
       "      <td>False</td>\n",
       "      <td>False</td>\n",
       "      <td>False</td>\n",
       "      <td>False</td>\n",
       "      <td>False</td>\n",
       "    </tr>\n",
       "    <tr>\n",
       "      <th>3</th>\n",
       "      <td>False</td>\n",
       "      <td>False</td>\n",
       "      <td>False</td>\n",
       "      <td>False</td>\n",
       "      <td>False</td>\n",
       "      <td>False</td>\n",
       "      <td>False</td>\n",
       "      <td>False</td>\n",
       "      <td>False</td>\n",
       "    </tr>\n",
       "    <tr>\n",
       "      <th>4</th>\n",
       "      <td>False</td>\n",
       "      <td>False</td>\n",
       "      <td>False</td>\n",
       "      <td>False</td>\n",
       "      <td>False</td>\n",
       "      <td>False</td>\n",
       "      <td>False</td>\n",
       "      <td>False</td>\n",
       "      <td>False</td>\n",
       "    </tr>\n",
       "    <tr>\n",
       "      <th>...</th>\n",
       "      <td>...</td>\n",
       "      <td>...</td>\n",
       "      <td>...</td>\n",
       "      <td>...</td>\n",
       "      <td>...</td>\n",
       "      <td>...</td>\n",
       "      <td>...</td>\n",
       "      <td>...</td>\n",
       "      <td>...</td>\n",
       "    </tr>\n",
       "    <tr>\n",
       "      <th>853</th>\n",
       "      <td>False</td>\n",
       "      <td>False</td>\n",
       "      <td>False</td>\n",
       "      <td>False</td>\n",
       "      <td>False</td>\n",
       "      <td>False</td>\n",
       "      <td>False</td>\n",
       "      <td>False</td>\n",
       "      <td>False</td>\n",
       "    </tr>\n",
       "    <tr>\n",
       "      <th>854</th>\n",
       "      <td>False</td>\n",
       "      <td>False</td>\n",
       "      <td>False</td>\n",
       "      <td>False</td>\n",
       "      <td>False</td>\n",
       "      <td>False</td>\n",
       "      <td>False</td>\n",
       "      <td>False</td>\n",
       "      <td>False</td>\n",
       "    </tr>\n",
       "    <tr>\n",
       "      <th>855</th>\n",
       "      <td>False</td>\n",
       "      <td>False</td>\n",
       "      <td>False</td>\n",
       "      <td>False</td>\n",
       "      <td>False</td>\n",
       "      <td>False</td>\n",
       "      <td>False</td>\n",
       "      <td>False</td>\n",
       "      <td>False</td>\n",
       "    </tr>\n",
       "    <tr>\n",
       "      <th>856</th>\n",
       "      <td>False</td>\n",
       "      <td>False</td>\n",
       "      <td>False</td>\n",
       "      <td>False</td>\n",
       "      <td>False</td>\n",
       "      <td>False</td>\n",
       "      <td>False</td>\n",
       "      <td>False</td>\n",
       "      <td>False</td>\n",
       "    </tr>\n",
       "    <tr>\n",
       "      <th>857</th>\n",
       "      <td>False</td>\n",
       "      <td>False</td>\n",
       "      <td>False</td>\n",
       "      <td>False</td>\n",
       "      <td>False</td>\n",
       "      <td>False</td>\n",
       "      <td>False</td>\n",
       "      <td>False</td>\n",
       "      <td>False</td>\n",
       "    </tr>\n",
       "  </tbody>\n",
       "</table>\n",
       "<p>858 rows × 9 columns</p>\n",
       "</div>"
      ],
      "text/plain": [
       "     Index   Make   Size  Color  Category  Condition  Odometer  Doors  Price\n",
       "0    False  False  False  False     False      False     False  False  False\n",
       "1    False  False  False  False     False      False     False  False  False\n",
       "2    False  False  False  False     False      False     False  False  False\n",
       "3    False  False  False  False     False      False     False  False  False\n",
       "4    False  False  False  False     False      False     False  False  False\n",
       "..     ...    ...    ...    ...       ...        ...       ...    ...    ...\n",
       "853  False  False  False  False     False      False     False  False  False\n",
       "854  False  False  False  False     False      False     False  False  False\n",
       "855  False  False  False  False     False      False     False  False  False\n",
       "856  False  False  False  False     False      False     False  False  False\n",
       "857  False  False  False  False     False      False     False  False  False\n",
       "\n",
       "[858 rows x 9 columns]"
      ]
     },
     "execution_count": 3,
     "metadata": {},
     "output_type": "execute_result"
    }
   ],
   "source": [
    "data.isna()"
   ]
  },
  {
   "cell_type": "code",
   "execution_count": 4,
   "id": "1073e111-1fa3-4600-b9ee-e751ee770e5e",
   "metadata": {},
   "outputs": [
    {
     "data": {
      "text/plain": [
       "Index        0\n",
       "Make         0\n",
       "Size         0\n",
       "Color        0\n",
       "Category     0\n",
       "Condition    0\n",
       "Odometer     0\n",
       "Doors        0\n",
       "Price        0\n",
       "dtype: int64"
      ]
     },
     "execution_count": 4,
     "metadata": {},
     "output_type": "execute_result"
    }
   ],
   "source": [
    "data.isna().sum()"
   ]
  },
  {
   "cell_type": "code",
   "execution_count": 5,
   "id": "dfa32515-63d3-42ff-8a1d-190e8dbacef3",
   "metadata": {},
   "outputs": [
    {
     "data": {
      "text/plain": [
       "(858, 9)"
      ]
     },
     "execution_count": 5,
     "metadata": {},
     "output_type": "execute_result"
    }
   ],
   "source": [
    "data.shape"
   ]
  },
  {
   "cell_type": "code",
   "execution_count": 6,
   "id": "9845516c-96f9-4dc9-a800-c8fc2db68133",
   "metadata": {},
   "outputs": [],
   "source": [
    "data.drop_duplicates(inplace=True)"
   ]
  },
  {
   "cell_type": "code",
   "execution_count": 7,
   "id": "d5bc4bfa-f40c-4a18-80dc-a0964f6b78b4",
   "metadata": {},
   "outputs": [
    {
     "data": {
      "text/html": [
       "<div>\n",
       "<style scoped>\n",
       "    .dataframe tbody tr th:only-of-type {\n",
       "        vertical-align: middle;\n",
       "    }\n",
       "\n",
       "    .dataframe tbody tr th {\n",
       "        vertical-align: top;\n",
       "    }\n",
       "\n",
       "    .dataframe thead th {\n",
       "        text-align: right;\n",
       "    }\n",
       "</style>\n",
       "<table border=\"1\" class=\"dataframe\">\n",
       "  <thead>\n",
       "    <tr style=\"text-align: right;\">\n",
       "      <th></th>\n",
       "      <th>Index</th>\n",
       "      <th>Odometer</th>\n",
       "      <th>Doors</th>\n",
       "      <th>Price</th>\n",
       "    </tr>\n",
       "  </thead>\n",
       "  <tbody>\n",
       "    <tr>\n",
       "      <th>count</th>\n",
       "      <td>858.000000</td>\n",
       "      <td>858.000000</td>\n",
       "      <td>858.000000</td>\n",
       "      <td>858.000000</td>\n",
       "    </tr>\n",
       "    <tr>\n",
       "      <th>mean</th>\n",
       "      <td>429.500000</td>\n",
       "      <td>132255.042541</td>\n",
       "      <td>4.008159</td>\n",
       "      <td>16154.287879</td>\n",
       "    </tr>\n",
       "    <tr>\n",
       "      <th>std</th>\n",
       "      <td>247.827561</td>\n",
       "      <td>67352.093697</td>\n",
       "      <td>0.375664</td>\n",
       "      <td>8559.710916</td>\n",
       "    </tr>\n",
       "    <tr>\n",
       "      <th>min</th>\n",
       "      <td>1.000000</td>\n",
       "      <td>10148.000000</td>\n",
       "      <td>3.000000</td>\n",
       "      <td>2796.000000</td>\n",
       "    </tr>\n",
       "    <tr>\n",
       "      <th>25%</th>\n",
       "      <td>215.250000</td>\n",
       "      <td>73431.750000</td>\n",
       "      <td>4.000000</td>\n",
       "      <td>9716.000000</td>\n",
       "    </tr>\n",
       "    <tr>\n",
       "      <th>50%</th>\n",
       "      <td>429.500000</td>\n",
       "      <td>133069.650000</td>\n",
       "      <td>4.000000</td>\n",
       "      <td>14556.000000</td>\n",
       "    </tr>\n",
       "    <tr>\n",
       "      <th>75%</th>\n",
       "      <td>643.750000</td>\n",
       "      <td>191180.000000</td>\n",
       "      <td>4.000000</td>\n",
       "      <td>20870.500000</td>\n",
       "    </tr>\n",
       "    <tr>\n",
       "      <th>max</th>\n",
       "      <td>858.000000</td>\n",
       "      <td>249860.000000</td>\n",
       "      <td>5.000000</td>\n",
       "      <td>52458.000000</td>\n",
       "    </tr>\n",
       "  </tbody>\n",
       "</table>\n",
       "</div>"
      ],
      "text/plain": [
       "            Index       Odometer       Doors         Price\n",
       "count  858.000000     858.000000  858.000000    858.000000\n",
       "mean   429.500000  132255.042541    4.008159  16154.287879\n",
       "std    247.827561   67352.093697    0.375664   8559.710916\n",
       "min      1.000000   10148.000000    3.000000   2796.000000\n",
       "25%    215.250000   73431.750000    4.000000   9716.000000\n",
       "50%    429.500000  133069.650000    4.000000  14556.000000\n",
       "75%    643.750000  191180.000000    4.000000  20870.500000\n",
       "max    858.000000  249860.000000    5.000000  52458.000000"
      ]
     },
     "execution_count": 7,
     "metadata": {},
     "output_type": "execute_result"
    }
   ],
   "source": [
    "data.describe()"
   ]
  },
  {
   "cell_type": "code",
   "execution_count": 8,
   "id": "c33aae39-65f6-45a7-adfb-ac527f1c77fc",
   "metadata": {},
   "outputs": [
    {
     "name": "stdout",
     "output_type": "stream",
     "text": [
      "<class 'pandas.core.frame.DataFrame'>\n",
      "RangeIndex: 858 entries, 0 to 857\n",
      "Data columns (total 9 columns):\n",
      " #   Column     Non-Null Count  Dtype  \n",
      "---  ------     --------------  -----  \n",
      " 0   Index      858 non-null    int64  \n",
      " 1   Make       858 non-null    object \n",
      " 2   Size       858 non-null    object \n",
      " 3   Color      858 non-null    object \n",
      " 4   Category   858 non-null    object \n",
      " 5   Condition  858 non-null    object \n",
      " 6   Odometer   858 non-null    float64\n",
      " 7   Doors      858 non-null    int64  \n",
      " 8   Price      858 non-null    int64  \n",
      "dtypes: float64(1), int64(3), object(5)\n",
      "memory usage: 60.5+ KB\n"
     ]
    }
   ],
   "source": [
    "data.info()"
   ]
  },
  {
   "cell_type": "code",
   "execution_count": 9,
   "id": "c0be4d90-254c-4291-8e38-792925ad4f92",
   "metadata": {},
   "outputs": [
    {
     "data": {
      "text/html": [
       "<div>\n",
       "<style scoped>\n",
       "    .dataframe tbody tr th:only-of-type {\n",
       "        vertical-align: middle;\n",
       "    }\n",
       "\n",
       "    .dataframe tbody tr th {\n",
       "        vertical-align: top;\n",
       "    }\n",
       "\n",
       "    .dataframe thead th {\n",
       "        text-align: right;\n",
       "    }\n",
       "</style>\n",
       "<table border=\"1\" class=\"dataframe\">\n",
       "  <thead>\n",
       "    <tr style=\"text-align: right;\">\n",
       "      <th></th>\n",
       "      <th>Index</th>\n",
       "      <th>Make</th>\n",
       "      <th>Size</th>\n",
       "      <th>Color</th>\n",
       "      <th>Category</th>\n",
       "      <th>Condition</th>\n",
       "      <th>Odometer</th>\n",
       "      <th>Doors</th>\n",
       "      <th>Price</th>\n",
       "    </tr>\n",
       "  </thead>\n",
       "  <tbody>\n",
       "    <tr>\n",
       "      <th>0</th>\n",
       "      <td>1</td>\n",
       "      <td>Honda</td>\n",
       "      <td>Medium</td>\n",
       "      <td>White</td>\n",
       "      <td>Medium</td>\n",
       "      <td>Good</td>\n",
       "      <td>35431.0</td>\n",
       "      <td>4</td>\n",
       "      <td>15323</td>\n",
       "    </tr>\n",
       "    <tr>\n",
       "      <th>1</th>\n",
       "      <td>2</td>\n",
       "      <td>BMW</td>\n",
       "      <td>Large</td>\n",
       "      <td>Blue</td>\n",
       "      <td>Medium</td>\n",
       "      <td>Old</td>\n",
       "      <td>192714.0</td>\n",
       "      <td>5</td>\n",
       "      <td>19943</td>\n",
       "    </tr>\n",
       "    <tr>\n",
       "      <th>2</th>\n",
       "      <td>3</td>\n",
       "      <td>Honda</td>\n",
       "      <td>Medium</td>\n",
       "      <td>White</td>\n",
       "      <td>Expensive</td>\n",
       "      <td>Good</td>\n",
       "      <td>84714.0</td>\n",
       "      <td>4</td>\n",
       "      <td>28343</td>\n",
       "    </tr>\n",
       "    <tr>\n",
       "      <th>3</th>\n",
       "      <td>4</td>\n",
       "      <td>Toyota</td>\n",
       "      <td>Medium</td>\n",
       "      <td>White</td>\n",
       "      <td>Medium</td>\n",
       "      <td>Old</td>\n",
       "      <td>154365.0</td>\n",
       "      <td>4</td>\n",
       "      <td>13434</td>\n",
       "    </tr>\n",
       "    <tr>\n",
       "      <th>4</th>\n",
       "      <td>5</td>\n",
       "      <td>Nissan</td>\n",
       "      <td>Small</td>\n",
       "      <td>Blue</td>\n",
       "      <td>Medium</td>\n",
       "      <td>Old</td>\n",
       "      <td>181577.0</td>\n",
       "      <td>3</td>\n",
       "      <td>14043</td>\n",
       "    </tr>\n",
       "  </tbody>\n",
       "</table>\n",
       "</div>"
      ],
      "text/plain": [
       "   Index    Make    Size  Color   Category Condition  Odometer  Doors  Price\n",
       "0      1   Honda  Medium  White     Medium      Good   35431.0      4  15323\n",
       "1      2     BMW   Large   Blue     Medium       Old  192714.0      5  19943\n",
       "2      3   Honda  Medium  White  Expensive      Good   84714.0      4  28343\n",
       "3      4  Toyota  Medium  White     Medium       Old  154365.0      4  13434\n",
       "4      5  Nissan   Small   Blue     Medium       Old  181577.0      3  14043"
      ]
     },
     "execution_count": 9,
     "metadata": {},
     "output_type": "execute_result"
    }
   ],
   "source": [
    "data.head()"
   ]
  },
  {
   "cell_type": "code",
   "execution_count": 10,
   "id": "689015a0-daf8-4e6f-8028-f932f8144545",
   "metadata": {},
   "outputs": [
    {
     "data": {
      "text/html": [
       "<div>\n",
       "<style scoped>\n",
       "    .dataframe tbody tr th:only-of-type {\n",
       "        vertical-align: middle;\n",
       "    }\n",
       "\n",
       "    .dataframe tbody tr th {\n",
       "        vertical-align: top;\n",
       "    }\n",
       "\n",
       "    .dataframe thead th {\n",
       "        text-align: right;\n",
       "    }\n",
       "</style>\n",
       "<table border=\"1\" class=\"dataframe\">\n",
       "  <thead>\n",
       "    <tr style=\"text-align: right;\">\n",
       "      <th></th>\n",
       "      <th>Index</th>\n",
       "      <th>Odometer</th>\n",
       "      <th>Doors</th>\n",
       "      <th>Price</th>\n",
       "    </tr>\n",
       "  </thead>\n",
       "  <tbody>\n",
       "    <tr>\n",
       "      <th>Index</th>\n",
       "      <td>1.000000</td>\n",
       "      <td>0.049509</td>\n",
       "      <td>0.056256</td>\n",
       "      <td>0.065973</td>\n",
       "    </tr>\n",
       "    <tr>\n",
       "      <th>Odometer</th>\n",
       "      <td>0.049509</td>\n",
       "      <td>1.000000</td>\n",
       "      <td>-0.030474</td>\n",
       "      <td>-0.406573</td>\n",
       "    </tr>\n",
       "    <tr>\n",
       "      <th>Doors</th>\n",
       "      <td>0.056256</td>\n",
       "      <td>-0.030474</td>\n",
       "      <td>1.000000</td>\n",
       "      <td>0.233012</td>\n",
       "    </tr>\n",
       "    <tr>\n",
       "      <th>Price</th>\n",
       "      <td>0.065973</td>\n",
       "      <td>-0.406573</td>\n",
       "      <td>0.233012</td>\n",
       "      <td>1.000000</td>\n",
       "    </tr>\n",
       "  </tbody>\n",
       "</table>\n",
       "</div>"
      ],
      "text/plain": [
       "             Index  Odometer     Doors     Price\n",
       "Index     1.000000  0.049509  0.056256  0.065973\n",
       "Odometer  0.049509  1.000000 -0.030474 -0.406573\n",
       "Doors     0.056256 -0.030474  1.000000  0.233012\n",
       "Price     0.065973 -0.406573  0.233012  1.000000"
      ]
     },
     "execution_count": 10,
     "metadata": {},
     "output_type": "execute_result"
    }
   ],
   "source": [
    "correlation_matrix = data.corr(numeric_only=True)\n",
    "correlation_matrix"
   ]
  },
  {
   "cell_type": "code",
   "execution_count": 11,
   "id": "d9bd6a4e-9715-4255-943f-11acb042df06",
   "metadata": {},
   "outputs": [
    {
     "data": {
      "image/png": "[encoded data removed]",
      "text/plain": [
       "<Figure size 600x600 with 2 Axes>"
      ]
     },
     "metadata": {},
     "output_type": "display_data"
    }
   ],
   "source": [
    "plt.figure(figsize=(6,6))\n",
    "sns.heatmap(correlation_matrix,cmap=\"coolwarm\",square=True)\n",
    "for i in range(len(correlation_matrix)):\n",
    "    for j in range(len(correlation_matrix)):\n",
    "        text = f\"{correlation_matrix.iloc[i,j]:.2f}\"\n",
    "        plt.text(j+0.5,i+0.5,text,ha=\"center\",va=\"center\",fontsize=8)\n",
    "\n",
    "for k in range(len(correlation_matrix)):\n",
    "    plt.axhline(k,color=\"white\",linewidth=1)\n",
    "    plt.axvline(k,color=\"white\",linewidth=1)\n",
    "    \n",
    "plt.xticks(rotation=45)\n",
    "plt.yticks(rotation=45)\n",
    "plt.show()"
   ]
  },
  {
   "cell_type": "code",
   "execution_count": 12,
   "id": "d41f12aa-4b2f-45bc-b86d-ac8e46cbd94d",
   "metadata": {},
   "outputs": [
    {
     "data": {
      "text/plain": [
       "<matplotlib.collections.PathCollection at 0x17db905b700>"
      ]
     },
     "execution_count": 12,
     "metadata": {},
     "output_type": "execute_result"
    },
    {
     "data": {
      "image/png": "[encoded data removed]",
      "text/plain": [
       "<Figure size 640x480 with 1 Axes>"
      ]
     },
     "metadata": {},
     "output_type": "display_data"
    }
   ],
   "source": [
    "plt.scatter(data[\"Odometer\"],data[\"Price\"])"
   ]
  },
  {
   "cell_type": "code",
   "execution_count": 13,
   "id": "2ffdb632-ed44-41d6-a593-8583ac855477",
   "metadata": {},
   "outputs": [
    {
     "data": {
      "text/plain": [
       "<matplotlib.collections.PathCollection at 0x17db85b9400>"
      ]
     },
     "execution_count": 13,
     "metadata": {},
     "output_type": "execute_result"
    },
    {
     "data": {
      "image/png": "[encoded data removed]",
      "text/plain": [
       "<Figure size 640x480 with 1 Axes>"
      ]
     },
     "metadata": {},
     "output_type": "display_data"
    }
   ],
   "source": [
    "plt.scatter(data[\"Doors\"],data[\"Price\"])"
   ]
  },
  {
   "cell_type": "code",
   "execution_count": 14,
   "id": "7c941f31-4626-47ed-9cc8-61b50a9e6ed2",
   "metadata": {},
   "outputs": [
    {
     "data": {
      "text/html": [
       "<div>\n",
       "<style scoped>\n",
       "    .dataframe tbody tr th:only-of-type {\n",
       "        vertical-align: middle;\n",
       "    }\n",
       "\n",
       "    .dataframe tbody tr th {\n",
       "        vertical-align: top;\n",
       "    }\n",
       "\n",
       "    .dataframe thead th {\n",
       "        text-align: right;\n",
       "    }\n",
       "</style>\n",
       "<table border=\"1\" class=\"dataframe\">\n",
       "  <thead>\n",
       "    <tr style=\"text-align: right;\">\n",
       "      <th>Category</th>\n",
       "      <th>Cheap</th>\n",
       "      <th>Expensive</th>\n",
       "      <th>Medium</th>\n",
       "    </tr>\n",
       "    <tr>\n",
       "      <th>Doors</th>\n",
       "      <th></th>\n",
       "      <th></th>\n",
       "      <th></th>\n",
       "    </tr>\n",
       "  </thead>\n",
       "  <tbody>\n",
       "    <tr>\n",
       "      <th>3</th>\n",
       "      <td>12</td>\n",
       "      <td>14</td>\n",
       "      <td>31</td>\n",
       "    </tr>\n",
       "    <tr>\n",
       "      <th>4</th>\n",
       "      <td>213</td>\n",
       "      <td>183</td>\n",
       "      <td>341</td>\n",
       "    </tr>\n",
       "    <tr>\n",
       "      <th>5</th>\n",
       "      <td>1</td>\n",
       "      <td>41</td>\n",
       "      <td>22</td>\n",
       "    </tr>\n",
       "  </tbody>\n",
       "</table>\n",
       "</div>"
      ],
      "text/plain": [
       "Category  Cheap  Expensive  Medium\n",
       "Doors                             \n",
       "3            12         14      31\n",
       "4           213        183     341\n",
       "5             1         41      22"
      ]
     },
     "execution_count": 14,
     "metadata": {},
     "output_type": "execute_result"
    }
   ],
   "source": [
    "pd.crosstab(data[\"Doors\"],data[\"Category\"])"
   ]
  },
  {
   "cell_type": "code",
   "execution_count": 15,
   "id": "b4392113-6132-4899-ab2a-3fb48f79bec7",
   "metadata": {},
   "outputs": [
    {
     "data": {
      "text/html": [
       "<div>\n",
       "<style scoped>\n",
       "    .dataframe tbody tr th:only-of-type {\n",
       "        vertical-align: middle;\n",
       "    }\n",
       "\n",
       "    .dataframe tbody tr th {\n",
       "        vertical-align: top;\n",
       "    }\n",
       "\n",
       "    .dataframe thead th {\n",
       "        text-align: right;\n",
       "    }\n",
       "</style>\n",
       "<table border=\"1\" class=\"dataframe\">\n",
       "  <thead>\n",
       "    <tr style=\"text-align: right;\">\n",
       "      <th>Category</th>\n",
       "      <th>Cheap</th>\n",
       "      <th>Expensive</th>\n",
       "      <th>Medium</th>\n",
       "    </tr>\n",
       "    <tr>\n",
       "      <th>Condition</th>\n",
       "      <th></th>\n",
       "      <th></th>\n",
       "      <th></th>\n",
       "    </tr>\n",
       "  </thead>\n",
       "  <tbody>\n",
       "    <tr>\n",
       "      <th>Average</th>\n",
       "      <td>55</td>\n",
       "      <td>58</td>\n",
       "      <td>99</td>\n",
       "    </tr>\n",
       "    <tr>\n",
       "      <th>Good</th>\n",
       "      <td>45</td>\n",
       "      <td>154</td>\n",
       "      <td>100</td>\n",
       "    </tr>\n",
       "    <tr>\n",
       "      <th>Old</th>\n",
       "      <td>126</td>\n",
       "      <td>26</td>\n",
       "      <td>195</td>\n",
       "    </tr>\n",
       "  </tbody>\n",
       "</table>\n",
       "</div>"
      ],
      "text/plain": [
       "Category   Cheap  Expensive  Medium\n",
       "Condition                          \n",
       "Average       55         58      99\n",
       "Good          45        154     100\n",
       "Old          126         26     195"
      ]
     },
     "execution_count": 15,
     "metadata": {},
     "output_type": "execute_result"
    }
   ],
   "source": [
    "pd.crosstab(data[\"Condition\"],data[\"Category\"])"
   ]
  },
  {
   "cell_type": "code",
   "execution_count": 16,
   "id": "05ba45a7-36a6-48ff-82b5-06cefcc654f4",
   "metadata": {},
   "outputs": [
    {
     "data": {
      "text/html": [
       "<div>\n",
       "<style scoped>\n",
       "    .dataframe tbody tr th:only-of-type {\n",
       "        vertical-align: middle;\n",
       "    }\n",
       "\n",
       "    .dataframe tbody tr th {\n",
       "        vertical-align: top;\n",
       "    }\n",
       "\n",
       "    .dataframe thead th {\n",
       "        text-align: right;\n",
       "    }\n",
       "</style>\n",
       "<table border=\"1\" class=\"dataframe\">\n",
       "  <thead>\n",
       "    <tr style=\"text-align: right;\">\n",
       "      <th>Category</th>\n",
       "      <th>Cheap</th>\n",
       "      <th>Expensive</th>\n",
       "      <th>Medium</th>\n",
       "    </tr>\n",
       "    <tr>\n",
       "      <th>Size</th>\n",
       "      <th></th>\n",
       "      <th></th>\n",
       "      <th></th>\n",
       "    </tr>\n",
       "  </thead>\n",
       "  <tbody>\n",
       "    <tr>\n",
       "      <th>Large</th>\n",
       "      <td>1</td>\n",
       "      <td>41</td>\n",
       "      <td>22</td>\n",
       "    </tr>\n",
       "    <tr>\n",
       "      <th>Medium</th>\n",
       "      <td>196</td>\n",
       "      <td>174</td>\n",
       "      <td>324</td>\n",
       "    </tr>\n",
       "    <tr>\n",
       "      <th>Missing</th>\n",
       "      <td>17</td>\n",
       "      <td>9</td>\n",
       "      <td>17</td>\n",
       "    </tr>\n",
       "    <tr>\n",
       "      <th>Small</th>\n",
       "      <td>12</td>\n",
       "      <td>14</td>\n",
       "      <td>31</td>\n",
       "    </tr>\n",
       "  </tbody>\n",
       "</table>\n",
       "</div>"
      ],
      "text/plain": [
       "Category  Cheap  Expensive  Medium\n",
       "Size                              \n",
       "Large         1         41      22\n",
       "Medium      196        174     324\n",
       "Missing      17          9      17\n",
       "Small        12         14      31"
      ]
     },
     "execution_count": 16,
     "metadata": {},
     "output_type": "execute_result"
    }
   ],
   "source": [
    "pd.crosstab(data[\"Size\"],data[\"Category\"])"
   ]
  },
  {
   "cell_type": "code",
   "execution_count": 17,
   "id": "9d9459ba-d488-4180-a1df-b7a69512a974",
   "metadata": {},
   "outputs": [
    {
     "data": {
      "text/html": [
       "<div>\n",
       "<style scoped>\n",
       "    .dataframe tbody tr th:only-of-type {\n",
       "        vertical-align: middle;\n",
       "    }\n",
       "\n",
       "    .dataframe tbody tr th {\n",
       "        vertical-align: top;\n",
       "    }\n",
       "\n",
       "    .dataframe thead th {\n",
       "        text-align: right;\n",
       "    }\n",
       "</style>\n",
       "<table border=\"1\" class=\"dataframe\">\n",
       "  <thead>\n",
       "    <tr style=\"text-align: right;\">\n",
       "      <th></th>\n",
       "      <th>Index</th>\n",
       "      <th>Make</th>\n",
       "      <th>Size</th>\n",
       "      <th>Color</th>\n",
       "      <th>Category</th>\n",
       "      <th>Condition</th>\n",
       "      <th>Odometer</th>\n",
       "      <th>Doors</th>\n",
       "      <th>Price</th>\n",
       "    </tr>\n",
       "  </thead>\n",
       "  <tbody>\n",
       "    <tr>\n",
       "      <th>0</th>\n",
       "      <td>1</td>\n",
       "      <td>Honda</td>\n",
       "      <td>Medium</td>\n",
       "      <td>White</td>\n",
       "      <td>Medium</td>\n",
       "      <td>Good</td>\n",
       "      <td>35431.0</td>\n",
       "      <td>4</td>\n",
       "      <td>15323</td>\n",
       "    </tr>\n",
       "    <tr>\n",
       "      <th>1</th>\n",
       "      <td>2</td>\n",
       "      <td>BMW</td>\n",
       "      <td>Large</td>\n",
       "      <td>Blue</td>\n",
       "      <td>Medium</td>\n",
       "      <td>Old</td>\n",
       "      <td>192714.0</td>\n",
       "      <td>5</td>\n",
       "      <td>19943</td>\n",
       "    </tr>\n",
       "    <tr>\n",
       "      <th>2</th>\n",
       "      <td>3</td>\n",
       "      <td>Honda</td>\n",
       "      <td>Medium</td>\n",
       "      <td>White</td>\n",
       "      <td>Expensive</td>\n",
       "      <td>Good</td>\n",
       "      <td>84714.0</td>\n",
       "      <td>4</td>\n",
       "      <td>28343</td>\n",
       "    </tr>\n",
       "    <tr>\n",
       "      <th>3</th>\n",
       "      <td>4</td>\n",
       "      <td>Toyota</td>\n",
       "      <td>Medium</td>\n",
       "      <td>White</td>\n",
       "      <td>Medium</td>\n",
       "      <td>Old</td>\n",
       "      <td>154365.0</td>\n",
       "      <td>4</td>\n",
       "      <td>13434</td>\n",
       "    </tr>\n",
       "    <tr>\n",
       "      <th>4</th>\n",
       "      <td>5</td>\n",
       "      <td>Nissan</td>\n",
       "      <td>Small</td>\n",
       "      <td>Blue</td>\n",
       "      <td>Medium</td>\n",
       "      <td>Old</td>\n",
       "      <td>181577.0</td>\n",
       "      <td>3</td>\n",
       "      <td>14043</td>\n",
       "    </tr>\n",
       "  </tbody>\n",
       "</table>\n",
       "</div>"
      ],
      "text/plain": [
       "   Index    Make    Size  Color   Category Condition  Odometer  Doors  Price\n",
       "0      1   Honda  Medium  White     Medium      Good   35431.0      4  15323\n",
       "1      2     BMW   Large   Blue     Medium       Old  192714.0      5  19943\n",
       "2      3   Honda  Medium  White  Expensive      Good   84714.0      4  28343\n",
       "3      4  Toyota  Medium  White     Medium       Old  154365.0      4  13434\n",
       "4      5  Nissan   Small   Blue     Medium       Old  181577.0      3  14043"
      ]
     },
     "execution_count": 17,
     "metadata": {},
     "output_type": "execute_result"
    }
   ],
   "source": [
    "data = data[data[\"Size\"]!=\"Missing\"]\n",
    "data.head()"
   ]
  },
  {
   "cell_type": "code",
   "execution_count": 18,
   "id": "ed7a12bb-1947-4bb2-bc31-c6e629038370",
   "metadata": {},
   "outputs": [
    {
     "data": {
      "text/html": [
       "<div>\n",
       "<style scoped>\n",
       "    .dataframe tbody tr th:only-of-type {\n",
       "        vertical-align: middle;\n",
       "    }\n",
       "\n",
       "    .dataframe tbody tr th {\n",
       "        vertical-align: top;\n",
       "    }\n",
       "\n",
       "    .dataframe thead th {\n",
       "        text-align: right;\n",
       "    }\n",
       "</style>\n",
       "<table border=\"1\" class=\"dataframe\">\n",
       "  <thead>\n",
       "    <tr style=\"text-align: right;\">\n",
       "      <th>Category</th>\n",
       "      <th>Cheap</th>\n",
       "      <th>Expensive</th>\n",
       "      <th>Medium</th>\n",
       "    </tr>\n",
       "    <tr>\n",
       "      <th>Size</th>\n",
       "      <th></th>\n",
       "      <th></th>\n",
       "      <th></th>\n",
       "    </tr>\n",
       "  </thead>\n",
       "  <tbody>\n",
       "    <tr>\n",
       "      <th>Large</th>\n",
       "      <td>1</td>\n",
       "      <td>41</td>\n",
       "      <td>22</td>\n",
       "    </tr>\n",
       "    <tr>\n",
       "      <th>Medium</th>\n",
       "      <td>196</td>\n",
       "      <td>174</td>\n",
       "      <td>324</td>\n",
       "    </tr>\n",
       "    <tr>\n",
       "      <th>Small</th>\n",
       "      <td>12</td>\n",
       "      <td>14</td>\n",
       "      <td>31</td>\n",
       "    </tr>\n",
       "  </tbody>\n",
       "</table>\n",
       "</div>"
      ],
      "text/plain": [
       "Category  Cheap  Expensive  Medium\n",
       "Size                              \n",
       "Large         1         41      22\n",
       "Medium      196        174     324\n",
       "Small        12         14      31"
      ]
     },
     "execution_count": 18,
     "metadata": {},
     "output_type": "execute_result"
    }
   ],
   "source": [
    "pd.crosstab(data[\"Size\"],data[\"Category\"])"
   ]
  },
  {
   "cell_type": "code",
   "execution_count": 19,
   "id": "90b006c9-9700-44ea-85c0-7a20cb38ae55",
   "metadata": {},
   "outputs": [
    {
     "data": {
      "text/plain": [
       "array(['Medium', 'Large', 'Small'], dtype=object)"
      ]
     },
     "execution_count": 19,
     "metadata": {},
     "output_type": "execute_result"
    }
   ],
   "source": [
    "data[\"Size\"].unique()"
   ]
  },
  {
   "cell_type": "code",
   "execution_count": 20,
   "id": "76a12c5a-a2a4-472c-8464-85df090f4d7a",
   "metadata": {},
   "outputs": [
    {
     "data": {
      "text/plain": [
       "array(['Medium', 'Expensive', 'Cheap'], dtype=object)"
      ]
     },
     "execution_count": 20,
     "metadata": {},
     "output_type": "execute_result"
    }
   ],
   "source": [
    "data[\"Category\"].unique()"
   ]
  },
  {
   "cell_type": "code",
   "execution_count": 21,
   "id": "2e7cd5d6-198c-4083-bb46-4094304b7b0d",
   "metadata": {},
   "outputs": [
    {
     "data": {
      "text/plain": [
       "array(['Good', 'Old', 'Average'], dtype=object)"
      ]
     },
     "execution_count": 21,
     "metadata": {},
     "output_type": "execute_result"
    }
   ],
   "source": [
    "data[\"Condition\"].unique()"
   ]
  },
  {
   "cell_type": "code",
   "execution_count": 22,
   "id": "701ede75-b11e-4a5d-8b53-d462172330a1",
   "metadata": {},
   "outputs": [],
   "source": [
    "category_mapping = {\"Cheap\":0,\"Medium\":1,\"Expensive\":2}\n",
    "size_mapping = {\"Small\":0,\"Medium\":1,\"Expensive\":2}\n",
    "condition_mapping = {\"Old\":0,\"Average\":1,\"Good\":2}"
   ]
  },
  {
   "cell_type": "code",
   "execution_count": 23,
   "id": "969f8c5a-d269-4625-8602-759e597b7804",
   "metadata": {},
   "outputs": [],
   "source": [
    "data[\"Category\"] = data[\"Category\"].map(category_mapping)\n",
    "data[\"Size\"]=data[\"Size\"].map(size_mapping)\n",
    "data[\"Condition\"] = data[\"Condition\"].map(condition_mapping)"
   ]
  },
  {
   "cell_type": "code",
   "execution_count": 24,
   "id": "862016f0-1515-4fd0-ae02-c2719103135d",
   "metadata": {},
   "outputs": [
    {
     "data": {
      "text/html": [
       "<div>\n",
       "<style scoped>\n",
       "    .dataframe tbody tr th:only-of-type {\n",
       "        vertical-align: middle;\n",
       "    }\n",
       "\n",
       "    .dataframe tbody tr th {\n",
       "        vertical-align: top;\n",
       "    }\n",
       "\n",
       "    .dataframe thead th {\n",
       "        text-align: right;\n",
       "    }\n",
       "</style>\n",
       "<table border=\"1\" class=\"dataframe\">\n",
       "  <thead>\n",
       "    <tr style=\"text-align: right;\">\n",
       "      <th></th>\n",
       "      <th>Index</th>\n",
       "      <th>Make</th>\n",
       "      <th>Size</th>\n",
       "      <th>Color</th>\n",
       "      <th>Category</th>\n",
       "      <th>Condition</th>\n",
       "      <th>Odometer</th>\n",
       "      <th>Doors</th>\n",
       "      <th>Price</th>\n",
       "    </tr>\n",
       "  </thead>\n",
       "  <tbody>\n",
       "    <tr>\n",
       "      <th>0</th>\n",
       "      <td>1</td>\n",
       "      <td>Honda</td>\n",
       "      <td>1.0</td>\n",
       "      <td>White</td>\n",
       "      <td>1</td>\n",
       "      <td>2</td>\n",
       "      <td>35431.0</td>\n",
       "      <td>4</td>\n",
       "      <td>15323</td>\n",
       "    </tr>\n",
       "    <tr>\n",
       "      <th>1</th>\n",
       "      <td>2</td>\n",
       "      <td>BMW</td>\n",
       "      <td>NaN</td>\n",
       "      <td>Blue</td>\n",
       "      <td>1</td>\n",
       "      <td>0</td>\n",
       "      <td>192714.0</td>\n",
       "      <td>5</td>\n",
       "      <td>19943</td>\n",
       "    </tr>\n",
       "    <tr>\n",
       "      <th>2</th>\n",
       "      <td>3</td>\n",
       "      <td>Honda</td>\n",
       "      <td>1.0</td>\n",
       "      <td>White</td>\n",
       "      <td>2</td>\n",
       "      <td>2</td>\n",
       "      <td>84714.0</td>\n",
       "      <td>4</td>\n",
       "      <td>28343</td>\n",
       "    </tr>\n",
       "    <tr>\n",
       "      <th>3</th>\n",
       "      <td>4</td>\n",
       "      <td>Toyota</td>\n",
       "      <td>1.0</td>\n",
       "      <td>White</td>\n",
       "      <td>1</td>\n",
       "      <td>0</td>\n",
       "      <td>154365.0</td>\n",
       "      <td>4</td>\n",
       "      <td>13434</td>\n",
       "    </tr>\n",
       "    <tr>\n",
       "      <th>4</th>\n",
       "      <td>5</td>\n",
       "      <td>Nissan</td>\n",
       "      <td>0.0</td>\n",
       "      <td>Blue</td>\n",
       "      <td>1</td>\n",
       "      <td>0</td>\n",
       "      <td>181577.0</td>\n",
       "      <td>3</td>\n",
       "      <td>14043</td>\n",
       "    </tr>\n",
       "    <tr>\n",
       "      <th>...</th>\n",
       "      <td>...</td>\n",
       "      <td>...</td>\n",
       "      <td>...</td>\n",
       "      <td>...</td>\n",
       "      <td>...</td>\n",
       "      <td>...</td>\n",
       "      <td>...</td>\n",
       "      <td>...</td>\n",
       "      <td>...</td>\n",
       "    </tr>\n",
       "    <tr>\n",
       "      <th>853</th>\n",
       "      <td>854</td>\n",
       "      <td>BMW</td>\n",
       "      <td>0.0</td>\n",
       "      <td>Blue</td>\n",
       "      <td>2</td>\n",
       "      <td>0</td>\n",
       "      <td>163322.0</td>\n",
       "      <td>3</td>\n",
       "      <td>31666</td>\n",
       "    </tr>\n",
       "    <tr>\n",
       "      <th>854</th>\n",
       "      <td>855</td>\n",
       "      <td>Toyota</td>\n",
       "      <td>1.0</td>\n",
       "      <td>Black</td>\n",
       "      <td>2</td>\n",
       "      <td>2</td>\n",
       "      <td>35820.0</td>\n",
       "      <td>4</td>\n",
       "      <td>32042</td>\n",
       "    </tr>\n",
       "    <tr>\n",
       "      <th>855</th>\n",
       "      <td>856</td>\n",
       "      <td>Nissan</td>\n",
       "      <td>1.0</td>\n",
       "      <td>Blue</td>\n",
       "      <td>2</td>\n",
       "      <td>2</td>\n",
       "      <td>66604.0</td>\n",
       "      <td>4</td>\n",
       "      <td>31570</td>\n",
       "    </tr>\n",
       "    <tr>\n",
       "      <th>856</th>\n",
       "      <td>857</td>\n",
       "      <td>Honda</td>\n",
       "      <td>1.0</td>\n",
       "      <td>White</td>\n",
       "      <td>0</td>\n",
       "      <td>0</td>\n",
       "      <td>215883.0</td>\n",
       "      <td>4</td>\n",
       "      <td>4001</td>\n",
       "    </tr>\n",
       "    <tr>\n",
       "      <th>857</th>\n",
       "      <td>858</td>\n",
       "      <td>Toyota</td>\n",
       "      <td>1.0</td>\n",
       "      <td>Blue</td>\n",
       "      <td>1</td>\n",
       "      <td>0</td>\n",
       "      <td>248360.0</td>\n",
       "      <td>4</td>\n",
       "      <td>12732</td>\n",
       "    </tr>\n",
       "  </tbody>\n",
       "</table>\n",
       "<p>815 rows × 9 columns</p>\n",
       "</div>"
      ],
      "text/plain": [
       "     Index    Make  Size  Color  Category  Condition  Odometer  Doors  Price\n",
       "0        1   Honda   1.0  White         1          2   35431.0      4  15323\n",
       "1        2     BMW   NaN   Blue         1          0  192714.0      5  19943\n",
       "2        3   Honda   1.0  White         2          2   84714.0      4  28343\n",
       "3        4  Toyota   1.0  White         1          0  154365.0      4  13434\n",
       "4        5  Nissan   0.0   Blue         1          0  181577.0      3  14043\n",
       "..     ...     ...   ...    ...       ...        ...       ...    ...    ...\n",
       "853    854     BMW   0.0   Blue         2          0  163322.0      3  31666\n",
       "854    855  Toyota   1.0  Black         2          2   35820.0      4  32042\n",
       "855    856  Nissan   1.0   Blue         2          2   66604.0      4  31570\n",
       "856    857   Honda   1.0  White         0          0  215883.0      4   4001\n",
       "857    858  Toyota   1.0   Blue         1          0  248360.0      4  12732\n",
       "\n",
       "[815 rows x 9 columns]"
      ]
     },
     "execution_count": 24,
     "metadata": {},
     "output_type": "execute_result"
    }
   ],
   "source": [
    "data"
   ]
  },
  {
   "cell_type": "code",
   "execution_count": 25,
   "id": "14626ab2-37be-455b-838a-55b465b25cbb",
   "metadata": {},
   "outputs": [
    {
     "data": {
      "text/html": [
       "<div>\n",
       "<style scoped>\n",
       "    .dataframe tbody tr th:only-of-type {\n",
       "        vertical-align: middle;\n",
       "    }\n",
       "\n",
       "    .dataframe tbody tr th {\n",
       "        vertical-align: top;\n",
       "    }\n",
       "\n",
       "    .dataframe thead th {\n",
       "        text-align: right;\n",
       "    }\n",
       "</style>\n",
       "<table border=\"1\" class=\"dataframe\">\n",
       "  <thead>\n",
       "    <tr style=\"text-align: right;\">\n",
       "      <th></th>\n",
       "      <th>Index</th>\n",
       "      <th>Size</th>\n",
       "      <th>Category</th>\n",
       "      <th>Condition</th>\n",
       "      <th>Odometer</th>\n",
       "      <th>Doors</th>\n",
       "      <th>Price</th>\n",
       "    </tr>\n",
       "  </thead>\n",
       "  <tbody>\n",
       "    <tr>\n",
       "      <th>Index</th>\n",
       "      <td>1.000000</td>\n",
       "      <td>0.027575</td>\n",
       "      <td>0.041974</td>\n",
       "      <td>-0.033238</td>\n",
       "      <td>0.046302</td>\n",
       "      <td>0.057056</td>\n",
       "      <td>0.063075</td>\n",
       "    </tr>\n",
       "    <tr>\n",
       "      <th>Size</th>\n",
       "      <td>0.027575</td>\n",
       "      <td>1.000000</td>\n",
       "      <td>-0.024375</td>\n",
       "      <td>0.050271</td>\n",
       "      <td>-0.031996</td>\n",
       "      <td>1.000000</td>\n",
       "      <td>-0.056753</td>\n",
       "    </tr>\n",
       "    <tr>\n",
       "      <th>Category</th>\n",
       "      <td>0.041974</td>\n",
       "      <td>-0.024375</td>\n",
       "      <td>1.000000</td>\n",
       "      <td>0.391951</td>\n",
       "      <td>-0.375531</td>\n",
       "      <td>0.164451</td>\n",
       "      <td>0.877105</td>\n",
       "    </tr>\n",
       "    <tr>\n",
       "      <th>Condition</th>\n",
       "      <td>-0.033238</td>\n",
       "      <td>0.050271</td>\n",
       "      <td>0.391951</td>\n",
       "      <td>1.000000</td>\n",
       "      <td>-0.934460</td>\n",
       "      <td>0.023183</td>\n",
       "      <td>0.445822</td>\n",
       "    </tr>\n",
       "    <tr>\n",
       "      <th>Odometer</th>\n",
       "      <td>0.046302</td>\n",
       "      <td>-0.031996</td>\n",
       "      <td>-0.375531</td>\n",
       "      <td>-0.934460</td>\n",
       "      <td>1.000000</td>\n",
       "      <td>-0.030831</td>\n",
       "      <td>-0.419406</td>\n",
       "    </tr>\n",
       "    <tr>\n",
       "      <th>Doors</th>\n",
       "      <td>0.057056</td>\n",
       "      <td>1.000000</td>\n",
       "      <td>0.164451</td>\n",
       "      <td>0.023183</td>\n",
       "      <td>-0.030831</td>\n",
       "      <td>1.000000</td>\n",
       "      <td>0.239215</td>\n",
       "    </tr>\n",
       "    <tr>\n",
       "      <th>Price</th>\n",
       "      <td>0.063075</td>\n",
       "      <td>-0.056753</td>\n",
       "      <td>0.877105</td>\n",
       "      <td>0.445822</td>\n",
       "      <td>-0.419406</td>\n",
       "      <td>0.239215</td>\n",
       "      <td>1.000000</td>\n",
       "    </tr>\n",
       "  </tbody>\n",
       "</table>\n",
       "</div>"
      ],
      "text/plain": [
       "              Index      Size  Category  Condition  Odometer     Doors  \\\n",
       "Index      1.000000  0.027575  0.041974  -0.033238  0.046302  0.057056   \n",
       "Size       0.027575  1.000000 -0.024375   0.050271 -0.031996  1.000000   \n",
       "Category   0.041974 -0.024375  1.000000   0.391951 -0.375531  0.164451   \n",
       "Condition -0.033238  0.050271  0.391951   1.000000 -0.934460  0.023183   \n",
       "Odometer   0.046302 -0.031996 -0.375531  -0.934460  1.000000 -0.030831   \n",
       "Doors      0.057056  1.000000  0.164451   0.023183 -0.030831  1.000000   \n",
       "Price      0.063075 -0.056753  0.877105   0.445822 -0.419406  0.239215   \n",
       "\n",
       "              Price  \n",
       "Index      0.063075  \n",
       "Size      -0.056753  \n",
       "Category   0.877105  \n",
       "Condition  0.445822  \n",
       "Odometer  -0.419406  \n",
       "Doors      0.239215  \n",
       "Price      1.000000  "
      ]
     },
     "execution_count": 25,
     "metadata": {},
     "output_type": "execute_result"
    }
   ],
   "source": [
    "correlation_matrix = data.corr(numeric_only=True)\n",
    "correlation_matrix"
   ]
  },
  {
   "cell_type": "code",
   "execution_count": 26,
   "id": "90868483-c989-4db9-80ab-d0bac7fcd9db",
   "metadata": {},
   "outputs": [
    {
     "data": {
      "image/png": "[encoded data removed]",
      "text/plain": [
       "<Figure size 600x600 with 2 Axes>"
      ]
     },
     "metadata": {},
     "output_type": "display_data"
    }
   ],
   "source": [
    "plt.figure(figsize=(6,6))\n",
    "sns.heatmap(correlation_matrix,cmap=\"coolwarm\",square=True)\n",
    "for i in range(len(correlation_matrix)):\n",
    "    for j in range(len(correlation_matrix)):\n",
    "        text = f\"{correlation_matrix.iloc[i,j]:.2f}\"\n",
    "        plt.text(j+0.5,i+0.5,text,ha=\"center\",va=\"center\",fontsize=8)\n",
    "\n",
    "for k in range(len(correlation_matrix)):\n",
    "    plt.axhline(k,color=\"white\",linewidth=1)\n",
    "    plt.axvline(k,color=\"white\",linewidth=1)\n",
    "    \n",
    "plt.xticks(rotation=45)\n",
    "plt.yticks(rotation=45)\n",
    "plt.show()"
   ]
  },
  {
   "cell_type": "code",
   "execution_count": 27,
   "id": "e8147544-3bfb-4d30-bd90-41dacf2f35ac",
   "metadata": {},
   "outputs": [
    {
     "name": "stderr",
     "output_type": "stream",
     "text": [
      "C:\\Users\\91950\\AppData\\Local\\Temp\\ipykernel_9416\\303550742.py:5: FutureWarning: Passing `palette` without assigning `hue` is deprecated.\n",
      "  sns.stripplot(x=\"Category\", y=\"Price\", data=data, jitter=True, alpha=0.7, palette=\"viridis\")\n",
      "C:\\Users\\91950\\Desktop\\sample_project1\\env\\lib\\site-packages\\seaborn\\_oldcore.py:1119: FutureWarning: use_inf_as_na option is deprecated and will be removed in a future version. Convert inf values to NaN before operating instead.\n",
      "  with pd.option_context('mode.use_inf_as_na', True):\n",
      "C:\\Users\\91950\\Desktop\\sample_project1\\env\\lib\\site-packages\\seaborn\\_oldcore.py:1119: FutureWarning: use_inf_as_na option is deprecated and will be removed in a future version. Convert inf values to NaN before operating instead.\n",
      "  with pd.option_context('mode.use_inf_as_na', True):\n"
     ]
    },
    {
     "data": {
      "image/png": "[encoded data removed]",
      "text/plain": [
       "<Figure size 640x480 with 1 Axes>"
      ]
     },
     "metadata": {},
     "output_type": "display_data"
    }
   ],
   "source": [
    "import seaborn as sns\n",
    "import matplotlib.pyplot as plt\n",
    "\n",
    "# Scatter plot with jitter for better separation of points\n",
    "sns.stripplot(x=\"Category\", y=\"Price\", data=data, jitter=True, alpha=0.7, palette=\"viridis\")\n",
    "\n",
    "# Add title and labels\n",
    "plt.title(\"Price Distribution by Category\")\n",
    "plt.xlabel(\"Category\")\n",
    "plt.ylabel(\"Price\")\n",
    "\n",
    "# Show the plot\n",
    "plt.show()\n"
   ]
  },
  {
   "cell_type": "code",
   "execution_count": 28,
   "id": "e3765f16-364a-47da-8251-a916d2500a4f",
   "metadata": {},
   "outputs": [
    {
     "name": "stderr",
     "output_type": "stream",
     "text": [
      "C:\\Users\\91950\\AppData\\Local\\Temp\\ipykernel_9416\\3391263685.py:1: FutureWarning: Passing `palette` without assigning `hue` is deprecated.\n",
      "  sns.stripplot(x=\"Condition\", y=\"Odometer\", data=data, palette=\"viridis\")\n",
      "C:\\Users\\91950\\Desktop\\sample_project1\\env\\lib\\site-packages\\seaborn\\_oldcore.py:1119: FutureWarning: use_inf_as_na option is deprecated and will be removed in a future version. Convert inf values to NaN before operating instead.\n",
      "  with pd.option_context('mode.use_inf_as_na', True):\n",
      "C:\\Users\\91950\\Desktop\\sample_project1\\env\\lib\\site-packages\\seaborn\\_oldcore.py:1119: FutureWarning: use_inf_as_na option is deprecated and will be removed in a future version. Convert inf values to NaN before operating instead.\n",
      "  with pd.option_context('mode.use_inf_as_na', True):\n"
     ]
    },
    {
     "data": {
      "image/png": "[encoded data removed]",
      "text/plain": [
       "<Figure size 640x480 with 1 Axes>"
      ]
     },
     "metadata": {},
     "output_type": "display_data"
    }
   ],
   "source": [
    "sns.stripplot(x=\"Condition\", y=\"Odometer\", data=data, palette=\"viridis\")\n",
    "\n",
    "# Add title and labels\n",
    "plt.title(\"Price Distribution by Category\")\n",
    "plt.xlabel(\"Category\")\n",
    "plt.ylabel(\"Price\")\n",
    "\n",
    "# Show the plot\n",
    "plt.show()\n"
   ]
  },
  {
   "cell_type": "code",
   "execution_count": null,
   "id": "8ee06f4f-52fa-46be-bc58-470b9c1ac74e",
   "metadata": {},
   "outputs": [],
   "source": []
  },
  {
   "cell_type": "code",
   "execution_count": 29,
   "id": "0aa27ffa-ac17-48e1-a91a-78e5ac8be73f",
   "metadata": {},
   "outputs": [
    {
     "data": {
      "text/plain": [
       "Make\n",
       "BMW       26371.571429\n",
       "Honda     14707.211382\n",
       "Nissan    13892.993902\n",
       "Toyota    15954.523364\n",
       "Name: Price, dtype: float64"
      ]
     },
     "execution_count": 29,
     "metadata": {},
     "output_type": "execute_result"
    }
   ],
   "source": [
    "data.groupby(\"Make\")[\"Price\"].mean()"
   ]
  },
  {
   "cell_type": "code",
   "execution_count": 30,
   "id": "99e82ad7-10cf-4831-ac01-634e51a02917",
   "metadata": {},
   "outputs": [
    {
     "name": "stderr",
     "output_type": "stream",
     "text": [
      "C:\\Users\\91950\\Desktop\\sample_project1\\env\\lib\\site-packages\\seaborn\\_oldcore.py:1119: FutureWarning: use_inf_as_na option is deprecated and will be removed in a future version. Convert inf values to NaN before operating instead.\n",
      "  with pd.option_context('mode.use_inf_as_na', True):\n"
     ]
    },
    {
     "data": {
      "image/png": "[encoded data removed]",
      "text/plain": [
       "<Figure size 640x480 with 1 Axes>"
      ]
     },
     "metadata": {},
     "output_type": "display_data"
    },
    {
     "name": "stdout",
     "output_type": "stream",
     "text": [
      "The data is Right Skewed\n"
     ]
    }
   ],
   "source": [
    "sns.histplot(data[\"Price\"])\n",
    "plt.axvline(data[\"Price\"].mean(), color='r', linestyle='dashed', linewidth=2, label='Mean')\n",
    "plt.axvline(data[\"Price\"].median(), color='b', linestyle='dashed', linewidth=2, label='Median')\n",
    "plt.legend()\n",
    "plt.title(\"Skewness\")\n",
    "\n",
    "plt.show()\n",
    "if data[\"Price\"].mean()>data[\"Price\"].median():\n",
    "    print(\"The data is Right Skewed\")\n",
    "elif data[\"Price\"].mean()<data[\"Price\"].median():\n",
    "    print(\"The data is left skewed\")\n",
    "else:\n",
    "    print(\"The data has Normal Disribution\")"
   ]
  },
  {
   "cell_type": "code",
   "execution_count": 31,
   "id": "3e669fd8-1460-4aca-95d7-be054ab7e0a1",
   "metadata": {},
   "outputs": [
    {
     "data": {
      "text/html": [
       "<div>\n",
       "<style scoped>\n",
       "    .dataframe tbody tr th:only-of-type {\n",
       "        vertical-align: middle;\n",
       "    }\n",
       "\n",
       "    .dataframe tbody tr th {\n",
       "        vertical-align: top;\n",
       "    }\n",
       "\n",
       "    .dataframe thead th {\n",
       "        text-align: right;\n",
       "    }\n",
       "</style>\n",
       "<table border=\"1\" class=\"dataframe\">\n",
       "  <thead>\n",
       "    <tr style=\"text-align: right;\">\n",
       "      <th></th>\n",
       "      <th>Make</th>\n",
       "      <th>Condition</th>\n",
       "      <th>Odometer</th>\n",
       "      <th>Price</th>\n",
       "      <th>Doors</th>\n",
       "    </tr>\n",
       "  </thead>\n",
       "  <tbody>\n",
       "    <tr>\n",
       "      <th>0</th>\n",
       "      <td>Honda</td>\n",
       "      <td>2</td>\n",
       "      <td>35431.0</td>\n",
       "      <td>15323</td>\n",
       "      <td>4</td>\n",
       "    </tr>\n",
       "    <tr>\n",
       "      <th>1</th>\n",
       "      <td>BMW</td>\n",
       "      <td>0</td>\n",
       "      <td>192714.0</td>\n",
       "      <td>19943</td>\n",
       "      <td>5</td>\n",
       "    </tr>\n",
       "    <tr>\n",
       "      <th>2</th>\n",
       "      <td>Honda</td>\n",
       "      <td>2</td>\n",
       "      <td>84714.0</td>\n",
       "      <td>28343</td>\n",
       "      <td>4</td>\n",
       "    </tr>\n",
       "    <tr>\n",
       "      <th>3</th>\n",
       "      <td>Toyota</td>\n",
       "      <td>0</td>\n",
       "      <td>154365.0</td>\n",
       "      <td>13434</td>\n",
       "      <td>4</td>\n",
       "    </tr>\n",
       "    <tr>\n",
       "      <th>4</th>\n",
       "      <td>Nissan</td>\n",
       "      <td>0</td>\n",
       "      <td>181577.0</td>\n",
       "      <td>14043</td>\n",
       "      <td>3</td>\n",
       "    </tr>\n",
       "  </tbody>\n",
       "</table>\n",
       "</div>"
      ],
      "text/plain": [
       "     Make  Condition  Odometer  Price  Doors\n",
       "0   Honda          2   35431.0  15323      4\n",
       "1     BMW          0  192714.0  19943      5\n",
       "2   Honda          2   84714.0  28343      4\n",
       "3  Toyota          0  154365.0  13434      4\n",
       "4  Nissan          0  181577.0  14043      3"
      ]
     },
     "execution_count": 31,
     "metadata": {},
     "output_type": "execute_result"
    }
   ],
   "source": [
    "Attributes = [\"Make\",\"Condition\",\"Odometer\",\"Price\",\"Doors\"]\n",
    "data = data[Attributes]\n",
    "data.head()"
   ]
  },
  {
   "cell_type": "code",
   "execution_count": 32,
   "id": "f38c0f52-7eea-4c8e-b8e1-a1427e959ef6",
   "metadata": {},
   "outputs": [],
   "source": [
    "x=data.drop(\"Price\",axis=1)\n",
    "y=data[\"Price\"]"
   ]
  },
  {
   "cell_type": "code",
   "execution_count": 33,
   "id": "cf419062-dc64-42cb-8fff-6439a3626d90",
   "metadata": {},
   "outputs": [
    {
     "data": {
      "text/html": [
       "<div>\n",
       "<style scoped>\n",
       "    .dataframe tbody tr th:only-of-type {\n",
       "        vertical-align: middle;\n",
       "    }\n",
       "\n",
       "    .dataframe tbody tr th {\n",
       "        vertical-align: top;\n",
       "    }\n",
       "\n",
       "    .dataframe thead th {\n",
       "        text-align: right;\n",
       "    }\n",
       "</style>\n",
       "<table border=\"1\" class=\"dataframe\">\n",
       "  <thead>\n",
       "    <tr style=\"text-align: right;\">\n",
       "      <th></th>\n",
       "      <th>Make</th>\n",
       "      <th>Condition</th>\n",
       "      <th>Odometer</th>\n",
       "      <th>Doors</th>\n",
       "    </tr>\n",
       "  </thead>\n",
       "  <tbody>\n",
       "    <tr>\n",
       "      <th>0</th>\n",
       "      <td>Honda</td>\n",
       "      <td>2</td>\n",
       "      <td>35431.0</td>\n",
       "      <td>4</td>\n",
       "    </tr>\n",
       "    <tr>\n",
       "      <th>1</th>\n",
       "      <td>BMW</td>\n",
       "      <td>0</td>\n",
       "      <td>192714.0</td>\n",
       "      <td>5</td>\n",
       "    </tr>\n",
       "    <tr>\n",
       "      <th>2</th>\n",
       "      <td>Honda</td>\n",
       "      <td>2</td>\n",
       "      <td>84714.0</td>\n",
       "      <td>4</td>\n",
       "    </tr>\n",
       "    <tr>\n",
       "      <th>3</th>\n",
       "      <td>Toyota</td>\n",
       "      <td>0</td>\n",
       "      <td>154365.0</td>\n",
       "      <td>4</td>\n",
       "    </tr>\n",
       "    <tr>\n",
       "      <th>4</th>\n",
       "      <td>Nissan</td>\n",
       "      <td>0</td>\n",
       "      <td>181577.0</td>\n",
       "      <td>3</td>\n",
       "    </tr>\n",
       "  </tbody>\n",
       "</table>\n",
       "</div>"
      ],
      "text/plain": [
       "     Make  Condition  Odometer  Doors\n",
       "0   Honda          2   35431.0      4\n",
       "1     BMW          0  192714.0      5\n",
       "2   Honda          2   84714.0      4\n",
       "3  Toyota          0  154365.0      4\n",
       "4  Nissan          0  181577.0      3"
      ]
     },
     "execution_count": 33,
     "metadata": {},
     "output_type": "execute_result"
    }
   ],
   "source": [
    "x.head()"
   ]
  },
  {
   "cell_type": "code",
   "execution_count": 34,
   "id": "bd6425c1-759f-43ed-8309-928fe2034331",
   "metadata": {},
   "outputs": [
    {
     "data": {
      "text/plain": [
       "0    15323\n",
       "1    19943\n",
       "2    28343\n",
       "3    13434\n",
       "4    14043\n",
       "Name: Price, dtype: int64"
      ]
     },
     "execution_count": 34,
     "metadata": {},
     "output_type": "execute_result"
    }
   ],
   "source": [
    "y.head()"
   ]
  },
  {
   "cell_type": "code",
   "execution_count": 35,
   "id": "b750e8b1-5f2a-4635-9568-4e23bf6b1ff7",
   "metadata": {},
   "outputs": [
    {
     "data": {
      "text/plain": [
       "RangeIndex(start=0, stop=7, step=1)"
      ]
     },
     "execution_count": 35,
     "metadata": {},
     "output_type": "execute_result"
    }
   ],
   "source": [
    "from sklearn.preprocessing import OneHotEncoder\n",
    "from sklearn.compose import ColumnTransformer\n",
    "categorical_attribute = [\"Make\"]\n",
    "one_hot = OneHotEncoder()\n",
    "transformer = ColumnTransformer([(\"one_hot\",one_hot,categorical_attribute)],remainder=\"passthrough\")\n",
    "transformed_x = transformer.fit_transform(x)\n",
    "transformed_x = pd.DataFrame(transformed_x)\n",
    "transformed_x.columns"
   ]
  },
  {
   "cell_type": "code",
   "execution_count": 36,
   "id": "2c3264e8-0096-4535-bb6e-867b17181213",
   "metadata": {},
   "outputs": [
    {
     "data": {
      "text/plain": [
       "array(['Honda', 'BMW', 'Toyota', 'Nissan'], dtype=object)"
      ]
     },
     "execution_count": 36,
     "metadata": {},
     "output_type": "execute_result"
    }
   ],
   "source": [
    "unique_makes = data[\"Make\"].unique()\n",
    "unique_makes"
   ]
  },
  {
   "cell_type": "code",
   "execution_count": 37,
   "id": "3d2bf53b-e80c-470c-86c0-150a8dcae3cb",
   "metadata": {},
   "outputs": [
    {
     "data": {
      "text/plain": [
       "['Honda', 'BMW', 'Toyota', 'Nissan', 'Condition', 'Odometer', 'Doors']"
      ]
     },
     "execution_count": 37,
     "metadata": {},
     "output_type": "execute_result"
    }
   ],
   "source": [
    "actual_columns = ['Honda', 'BMW', 'Toyota', 'Nissan','Condition','Odometer','Doors']\n",
    "actual_columns"
   ]
  },
  {
   "cell_type": "code",
   "execution_count": 38,
   "id": "cee47106-14ff-458e-aa35-9096c4cbc012",
   "metadata": {},
   "outputs": [],
   "source": [
    "transformed_x.columns = actual_columns"
   ]
  },
  {
   "cell_type": "code",
   "execution_count": 39,
   "id": "c534bc17-0f76-4cc6-b3af-1c95fd3a5972",
   "metadata": {},
   "outputs": [
    {
     "data": {
      "text/html": [
       "<div>\n",
       "<style scoped>\n",
       "    .dataframe tbody tr th:only-of-type {\n",
       "        vertical-align: middle;\n",
       "    }\n",
       "\n",
       "    .dataframe tbody tr th {\n",
       "        vertical-align: top;\n",
       "    }\n",
       "\n",
       "    .dataframe thead th {\n",
       "        text-align: right;\n",
       "    }\n",
       "</style>\n",
       "<table border=\"1\" class=\"dataframe\">\n",
       "  <thead>\n",
       "    <tr style=\"text-align: right;\">\n",
       "      <th></th>\n",
       "      <th>Honda</th>\n",
       "      <th>BMW</th>\n",
       "      <th>Toyota</th>\n",
       "      <th>Nissan</th>\n",
       "      <th>Condition</th>\n",
       "      <th>Odometer</th>\n",
       "      <th>Doors</th>\n",
       "    </tr>\n",
       "  </thead>\n",
       "  <tbody>\n",
       "    <tr>\n",
       "      <th>0</th>\n",
       "      <td>0.0</td>\n",
       "      <td>1.0</td>\n",
       "      <td>0.0</td>\n",
       "      <td>0.0</td>\n",
       "      <td>2.0</td>\n",
       "      <td>35431.0</td>\n",
       "      <td>4.0</td>\n",
       "    </tr>\n",
       "    <tr>\n",
       "      <th>1</th>\n",
       "      <td>1.0</td>\n",
       "      <td>0.0</td>\n",
       "      <td>0.0</td>\n",
       "      <td>0.0</td>\n",
       "      <td>0.0</td>\n",
       "      <td>192714.0</td>\n",
       "      <td>5.0</td>\n",
       "    </tr>\n",
       "    <tr>\n",
       "      <th>2</th>\n",
       "      <td>0.0</td>\n",
       "      <td>1.0</td>\n",
       "      <td>0.0</td>\n",
       "      <td>0.0</td>\n",
       "      <td>2.0</td>\n",
       "      <td>84714.0</td>\n",
       "      <td>4.0</td>\n",
       "    </tr>\n",
       "    <tr>\n",
       "      <th>3</th>\n",
       "      <td>0.0</td>\n",
       "      <td>0.0</td>\n",
       "      <td>0.0</td>\n",
       "      <td>1.0</td>\n",
       "      <td>0.0</td>\n",
       "      <td>154365.0</td>\n",
       "      <td>4.0</td>\n",
       "    </tr>\n",
       "    <tr>\n",
       "      <th>4</th>\n",
       "      <td>0.0</td>\n",
       "      <td>0.0</td>\n",
       "      <td>1.0</td>\n",
       "      <td>0.0</td>\n",
       "      <td>0.0</td>\n",
       "      <td>181577.0</td>\n",
       "      <td>3.0</td>\n",
       "    </tr>\n",
       "    <tr>\n",
       "      <th>...</th>\n",
       "      <td>...</td>\n",
       "      <td>...</td>\n",
       "      <td>...</td>\n",
       "      <td>...</td>\n",
       "      <td>...</td>\n",
       "      <td>...</td>\n",
       "      <td>...</td>\n",
       "    </tr>\n",
       "    <tr>\n",
       "      <th>810</th>\n",
       "      <td>1.0</td>\n",
       "      <td>0.0</td>\n",
       "      <td>0.0</td>\n",
       "      <td>0.0</td>\n",
       "      <td>0.0</td>\n",
       "      <td>163322.0</td>\n",
       "      <td>3.0</td>\n",
       "    </tr>\n",
       "    <tr>\n",
       "      <th>811</th>\n",
       "      <td>0.0</td>\n",
       "      <td>0.0</td>\n",
       "      <td>0.0</td>\n",
       "      <td>1.0</td>\n",
       "      <td>2.0</td>\n",
       "      <td>35820.0</td>\n",
       "      <td>4.0</td>\n",
       "    </tr>\n",
       "    <tr>\n",
       "      <th>812</th>\n",
       "      <td>0.0</td>\n",
       "      <td>0.0</td>\n",
       "      <td>1.0</td>\n",
       "      <td>0.0</td>\n",
       "      <td>2.0</td>\n",
       "      <td>66604.0</td>\n",
       "      <td>4.0</td>\n",
       "    </tr>\n",
       "    <tr>\n",
       "      <th>813</th>\n",
       "      <td>0.0</td>\n",
       "      <td>1.0</td>\n",
       "      <td>0.0</td>\n",
       "      <td>0.0</td>\n",
       "      <td>0.0</td>\n",
       "      <td>215883.0</td>\n",
       "      <td>4.0</td>\n",
       "    </tr>\n",
       "    <tr>\n",
       "      <th>814</th>\n",
       "      <td>0.0</td>\n",
       "      <td>0.0</td>\n",
       "      <td>0.0</td>\n",
       "      <td>1.0</td>\n",
       "      <td>0.0</td>\n",
       "      <td>248360.0</td>\n",
       "      <td>4.0</td>\n",
       "    </tr>\n",
       "  </tbody>\n",
       "</table>\n",
       "<p>815 rows × 7 columns</p>\n",
       "</div>"
      ],
      "text/plain": [
       "     Honda  BMW  Toyota  Nissan  Condition  Odometer  Doors\n",
       "0      0.0  1.0     0.0     0.0        2.0   35431.0    4.0\n",
       "1      1.0  0.0     0.0     0.0        0.0  192714.0    5.0\n",
       "2      0.0  1.0     0.0     0.0        2.0   84714.0    4.0\n",
       "3      0.0  0.0     0.0     1.0        0.0  154365.0    4.0\n",
       "4      0.0  0.0     1.0     0.0        0.0  181577.0    3.0\n",
       "..     ...  ...     ...     ...        ...       ...    ...\n",
       "810    1.0  0.0     0.0     0.0        0.0  163322.0    3.0\n",
       "811    0.0  0.0     0.0     1.0        2.0   35820.0    4.0\n",
       "812    0.0  0.0     1.0     0.0        2.0   66604.0    4.0\n",
       "813    0.0  1.0     0.0     0.0        0.0  215883.0    4.0\n",
       "814    0.0  0.0     0.0     1.0        0.0  248360.0    4.0\n",
       "\n",
       "[815 rows x 7 columns]"
      ]
     },
     "execution_count": 39,
     "metadata": {},
     "output_type": "execute_result"
    }
   ],
   "source": [
    "transformed_x"
   ]
  },
  {
   "cell_type": "code",
   "execution_count": 40,
   "id": "d3dfbb1a-3866-4e10-9d0d-73e511a00c63",
   "metadata": {},
   "outputs": [],
   "source": [
    "from sklearn.ensemble import RandomForestRegressor\n",
    "from sklearn.model_selection import train_test_split\n"
   ]
  },
  {
   "cell_type": "code",
   "execution_count": 41,
   "id": "8674f631-c9f5-4a49-99eb-18908876db58",
   "metadata": {},
   "outputs": [
    {
     "data": {
      "text/html": [
       "<style>#sk-container-id-1 {color: black;}#sk-container-id-1 pre{padding: 0;}#sk-container-id-1 div.sk-toggleable {background-color: white;}#sk-container-id-1 label.sk-toggleable__label {cursor: pointer;display: block;width: 100%;margin-bottom: 0;padding: 0.3em;box-sizing: border-box;text-align: center;}#sk-container-id-1 label.sk-toggleable__label-arrow:before {content: \"▸\";float: left;margin-right: 0.25em;color: #696969;}#sk-container-id-1 label.sk-toggleable__label-arrow:hover:before {color: black;}#sk-container-id-1 div.sk-estimator:hover label.sk-toggleable__label-arrow:before {color: black;}#sk-container-id-1 div.sk-toggleable__content {max-height: 0;max-width: 0;overflow: hidden;text-align: left;background-color: #f0f8ff;}#sk-container-id-1 div.sk-toggleable__content pre {margin: 0.2em;color: black;border-radius: 0.25em;background-color: #f0f8ff;}#sk-container-id-1 input.sk-toggleable__control:checked~div.sk-toggleable__content {max-height: 200px;max-width: 100%;overflow: auto;}#sk-container-id-1 input.sk-toggleable__control:checked~label.sk-toggleable__label-arrow:before {content: \"▾\";}#sk-container-id-1 div.sk-estimator input.sk-toggleable__control:checked~label.sk-toggleable__label {background-color: #d4ebff;}#sk-container-id-1 div.sk-label input.sk-toggleable__control:checked~label.sk-toggleable__label {background-color: #d4ebff;}#sk-container-id-1 input.sk-hidden--visually {border: 0;clip: rect(1px 1px 1px 1px);clip: rect(1px, 1px, 1px, 1px);height: 1px;margin: -1px;overflow: hidden;padding: 0;position: absolute;width: 1px;}#sk-container-id-1 div.sk-estimator {font-family: monospace;background-color: #f0f8ff;border: 1px dotted black;border-radius: 0.25em;box-sizing: border-box;margin-bottom: 0.5em;}#sk-container-id-1 div.sk-estimator:hover {background-color: #d4ebff;}#sk-container-id-1 div.sk-parallel-item::after {content: \"\";width: 100%;border-bottom: 1px solid gray;flex-grow: 1;}#sk-container-id-1 div.sk-label:hover label.sk-toggleable__label {background-color: #d4ebff;}#sk-container-id-1 div.sk-serial::before {content: \"\";position: absolute;border-left: 1px solid gray;box-sizing: border-box;top: 0;bottom: 0;left: 50%;z-index: 0;}#sk-container-id-1 div.sk-serial {display: flex;flex-direction: column;align-items: center;background-color: white;padding-right: 0.2em;padding-left: 0.2em;position: relative;}#sk-container-id-1 div.sk-item {position: relative;z-index: 1;}#sk-container-id-1 div.sk-parallel {display: flex;align-items: stretch;justify-content: center;background-color: white;position: relative;}#sk-container-id-1 div.sk-item::before, #sk-container-id-1 div.sk-parallel-item::before {content: \"\";position: absolute;border-left: 1px solid gray;box-sizing: border-box;top: 0;bottom: 0;left: 50%;z-index: -1;}#sk-container-id-1 div.sk-parallel-item {display: flex;flex-direction: column;z-index: 1;position: relative;background-color: white;}#sk-container-id-1 div.sk-parallel-item:first-child::after {align-self: flex-end;width: 50%;}#sk-container-id-1 div.sk-parallel-item:last-child::after {align-self: flex-start;width: 50%;}#sk-container-id-1 div.sk-parallel-item:only-child::after {width: 0;}#sk-container-id-1 div.sk-dashed-wrapped {border: 1px dashed gray;margin: 0 0.4em 0.5em 0.4em;box-sizing: border-box;padding-bottom: 0.4em;background-color: white;}#sk-container-id-1 div.sk-label label {font-family: monospace;font-weight: bold;display: inline-block;line-height: 1.2em;}#sk-container-id-1 div.sk-label-container {text-align: center;}#sk-container-id-1 div.sk-container {/* jupyter's `normalize.less` sets `[hidden] { display: none; }` but bootstrap.min.css set `[hidden] { display: none !important; }` so we also need the `!important` here to be able to override the default hidden behavior on the sphinx rendered scikit-learn.org. See: https://github.com/scikit-learn/scikit-learn/issues/21755 */display: inline-block !important;position: relative;}#sk-container-id-1 div.sk-text-repr-fallback {display: none;}</style><div id=\"sk-container-id-1\" class=\"sk-top-container\"><div class=\"sk-text-repr-fallback\"><pre>RandomForestRegressor()</pre><b>In a Jupyter environment, please rerun this cell to show the HTML representation or trust the notebook. <br />On GitHub, the HTML representation is unable to render, please try loading this page with nbviewer.org.</b></div><div class=\"sk-container\" hidden><div class=\"sk-item\"><div class=\"sk-estimator sk-toggleable\"><input class=\"sk-toggleable__control sk-hidden--visually\" id=\"sk-estimator-id-1\" type=\"checkbox\" checked><label for=\"sk-estimator-id-1\" class=\"sk-toggleable__label sk-toggleable__label-arrow\">RandomForestRegressor</label><div class=\"sk-toggleable__content\"><pre>RandomForestRegressor()</pre></div></div></div></div></div>"
      ],
      "text/plain": [
       "RandomForestRegressor()"
      ]
     },
     "execution_count": 41,
     "metadata": {},
     "output_type": "execute_result"
    }
   ],
   "source": [
    "np.random.seed(42)\n",
    "x_train,x_test,y_train,y_test = train_test_split(transformed_x,y,test_size=0.2)\n",
    "model = RandomForestRegressor()\n",
    "model.fit(x_train,y_train)"
   ]
  },
  {
   "cell_type": "code",
   "execution_count": 42,
   "id": "1cb70816-4739-479e-a1e4-a6c85cf94a84",
   "metadata": {},
   "outputs": [
    {
     "data": {
      "text/plain": [
       "0.2725142837652611"
      ]
     },
     "execution_count": 42,
     "metadata": {},
     "output_type": "execute_result"
    }
   ],
   "source": [
    "model.score(x_test,y_test)"
   ]
  },
  {
   "cell_type": "code",
   "execution_count": 43,
   "id": "1b016df7-02fd-4234-81e8-4d022b40bb16",
   "metadata": {},
   "outputs": [
    {
     "name": "stdout",
     "output_type": "stream",
     "text": [
      "The accuracy is : 13.67%\n"
     ]
    }
   ],
   "source": [
    "from sklearn.model_selection import cross_val_score\n",
    "np.random.seed(42)\n",
    "score = cross_val_score(model,transformed_x,y,cv=5)\n",
    "final_score = score.mean()\n",
    "print(f\"The accuracy is : {final_score*100:.2f}%\")"
   ]
  },
  {
   "cell_type": "code",
   "execution_count": 44,
   "id": "b4f9be93-d233-453f-b5c3-f0cbd081c5e1",
   "metadata": {},
   "outputs": [
    {
     "name": "stdout",
     "output_type": "stream",
     "text": [
      "Fitting 5 folds for each of 100 candidates, totalling 500 fits\n"
     ]
    },
    {
     "name": "stderr",
     "output_type": "stream",
     "text": [
      "C:\\Users\\91950\\Desktop\\sample_project1\\env\\lib\\site-packages\\sklearn\\model_selection\\_validation.py:425: FitFailedWarning: \n",
      "210 fits failed out of a total of 500.\n",
      "The score on these train-test partitions for these parameters will be set to nan.\n",
      "If these failures are not expected, you can try to debug them by setting error_score='raise'.\n",
      "\n",
      "Below are more details about the failures:\n",
      "--------------------------------------------------------------------------------\n",
      "110 fits failed with the following error:\n",
      "Traceback (most recent call last):\n",
      "  File \"C:\\Users\\91950\\Desktop\\sample_project1\\env\\lib\\site-packages\\sklearn\\model_selection\\_validation.py\", line 732, in _fit_and_score\n",
      "    estimator.fit(X_train, y_train, **fit_params)\n",
      "  File \"C:\\Users\\91950\\Desktop\\sample_project1\\env\\lib\\site-packages\\sklearn\\base.py\", line 1151, in wrapper\n",
      "    return fit_method(estimator, *args, **kwargs)\n",
      "  File \"C:\\Users\\91950\\Desktop\\sample_project1\\env\\lib\\site-packages\\sklearn\\ensemble\\_forest.py\", line 417, in fit\n",
      "    raise ValueError(\"Out of bag estimation only available if bootstrap=True\")\n",
      "ValueError: Out of bag estimation only available if bootstrap=True\n",
      "\n",
      "--------------------------------------------------------------------------------\n",
      "74 fits failed with the following error:\n",
      "Traceback (most recent call last):\n",
      "  File \"C:\\Users\\91950\\Desktop\\sample_project1\\env\\lib\\site-packages\\sklearn\\model_selection\\_validation.py\", line 732, in _fit_and_score\n",
      "    estimator.fit(X_train, y_train, **fit_params)\n",
      "  File \"C:\\Users\\91950\\Desktop\\sample_project1\\env\\lib\\site-packages\\sklearn\\base.py\", line 1144, in wrapper\n",
      "    estimator._validate_params()\n",
      "  File \"C:\\Users\\91950\\Desktop\\sample_project1\\env\\lib\\site-packages\\sklearn\\base.py\", line 637, in _validate_params\n",
      "    validate_parameter_constraints(\n",
      "  File \"C:\\Users\\91950\\Desktop\\sample_project1\\env\\lib\\site-packages\\sklearn\\utils\\_param_validation.py\", line 95, in validate_parameter_constraints\n",
      "    raise InvalidParameterError(\n",
      "sklearn.utils._param_validation.InvalidParameterError: The 'max_features' parameter of RandomForestRegressor must be an int in the range [1, inf), a float in the range (0.0, 1.0], a str among {'log2', 'sqrt'} or None. Got 'auto' instead.\n",
      "\n",
      "--------------------------------------------------------------------------------\n",
      "26 fits failed with the following error:\n",
      "Traceback (most recent call last):\n",
      "  File \"C:\\Users\\91950\\Desktop\\sample_project1\\env\\lib\\site-packages\\sklearn\\model_selection\\_validation.py\", line 732, in _fit_and_score\n",
      "    estimator.fit(X_train, y_train, **fit_params)\n",
      "  File \"C:\\Users\\91950\\Desktop\\sample_project1\\env\\lib\\site-packages\\sklearn\\base.py\", line 1144, in wrapper\n",
      "    estimator._validate_params()\n",
      "  File \"C:\\Users\\91950\\Desktop\\sample_project1\\env\\lib\\site-packages\\sklearn\\base.py\", line 637, in _validate_params\n",
      "    validate_parameter_constraints(\n",
      "  File \"C:\\Users\\91950\\Desktop\\sample_project1\\env\\lib\\site-packages\\sklearn\\utils\\_param_validation.py\", line 95, in validate_parameter_constraints\n",
      "    raise InvalidParameterError(\n",
      "sklearn.utils._param_validation.InvalidParameterError: The 'max_features' parameter of RandomForestRegressor must be an int in the range [1, inf), a float in the range (0.0, 1.0], a str among {'sqrt', 'log2'} or None. Got 'auto' instead.\n",
      "\n",
      "  warnings.warn(some_fits_failed_message, FitFailedWarning)\n",
      "C:\\Users\\91950\\Desktop\\sample_project1\\env\\lib\\site-packages\\sklearn\\model_selection\\_search.py:976: UserWarning: One or more of the test scores are non-finite: [ 0.24138066  0.23281844  0.27904993         nan  0.13237742         nan\n",
      "         nan  0.27970281         nan  0.2542896   0.14373072         nan\n",
      "  0.27398217  0.27794898         nan  0.24057567  0.21666141  0.22546938\n",
      "         nan  0.21862184  0.25609492  0.23922303         nan  0.23677071\n",
      "         nan  0.2199873          nan  0.23871633  0.18782201  0.21615216\n",
      "         nan  0.28123399  0.20889294  0.11118412         nan  0.22490557\n",
      "  0.01171291  0.00560742  0.25141003  0.22417185         nan  0.2778377\n",
      "         nan         nan         nan         nan         nan         nan\n",
      "         nan  0.22387584  0.25211123  0.21079955 -0.2466576   0.1479945\n",
      "         nan  0.22007425  0.11438153  0.22453072  0.27785959  0.11469017\n",
      "         nan  0.08662302  0.25422359         nan  0.13387759         nan\n",
      "  0.23883587  0.28169331  0.08565123         nan         nan  0.08987725\n",
      "  0.2823256          nan         nan         nan  0.27703468  0.25493126\n",
      "  0.22687615         nan  0.23180775  0.12757384  0.27865897         nan\n",
      "  0.18726071         nan         nan  0.24289203         nan         nan\n",
      "         nan         nan         nan  0.09366219         nan         nan\n",
      "  0.24135047         nan         nan  0.00672651]\n",
      "  warnings.warn(\n"
     ]
    },
    {
     "name": "stdout",
     "output_type": "stream",
     "text": [
      "Best Hyperparameters: {'oob_score': False, 'n_estimators': 500, 'min_samples_split': 5, 'min_samples_leaf': 5, 'max_features': 'sqrt', 'max_depth': None, 'bootstrap': True}\n",
      "Best Model R^2 Score: 0.4106319460024094\n"
     ]
    }
   ],
   "source": [
    "from sklearn.ensemble import RandomForestRegressor\n",
    "from sklearn.model_selection import RandomizedSearchCV\n",
    "import numpy as np\n",
    "model = RandomForestRegressor()\n",
    "param_dist = {\n",
    "    'n_estimators': [100, 200, 300, 500],\n",
    "    'max_depth': [None, 10, 20, 30],\n",
    "    'min_samples_split': [2, 5, 10],\n",
    "    'min_samples_leaf': [1, 2, 5],\n",
    "    'max_features': ['auto', 'sqrt', 'log2'],\n",
    "    'bootstrap': [True, False],\n",
    "    'oob_score': [True, False]\n",
    "}\n",
    "random_search = RandomizedSearchCV(\n",
    "    estimator=model,\n",
    "    param_distributions=param_dist,\n",
    "    n_iter=100, \n",
    "    cv=5,\n",
    "    n_jobs=-1,\n",
    "    verbose=2,\n",
    "    random_state=42\n",
    ")\n",
    "random_search.fit(x_train, y_train)\n",
    "print(f\"Best Hyperparameters: {random_search.best_params_}\")\n",
    "best_model = random_search.best_estimator_\n",
    "score = best_model.score(x_test, y_test)\n",
    "print(f\"Best Model R^2 Score: {score}\")\n"
   ]
  },
  {
   "cell_type": "code",
   "execution_count": 45,
   "id": "6c1bec37-adfc-4db0-b77a-bc5bdf58702a",
   "metadata": {},
   "outputs": [
    {
     "name": "stdout",
     "output_type": "stream",
     "text": [
      "Test R^2 Score: 0.4106319460024094\n"
     ]
    }
   ],
   "source": [
    "test_score = random_search.best_estimator_.score(x_test, y_test)\n",
    "print(f\"Test R^2 Score: {test_score}\")\n",
    "\n"
   ]
  },
  {
   "cell_type": "code",
   "execution_count": 46,
   "id": "b9def59c-f7a6-48d1-adfd-77f3dc47753e",
   "metadata": {},
   "outputs": [
    {
     "data": {
      "image/png": "[encoded data removed]",
      "text/plain": [
       "<Figure size 1000x600 with 1 Axes>"
      ]
     },
     "metadata": {},
     "output_type": "display_data"
    }
   ],
   "source": [
    "import matplotlib.pyplot as plt\n",
    "y_pred = random_search.best_estimator_.predict(x_test)\n",
    "plt.figure(figsize=(10,6))\n",
    "plt.scatter(y_test, y_pred)\n",
    "plt.plot([y_test.min(), y_test.max()], [y_test.min(), y_test.max()], color='red', lw=2)\n",
    "plt.xlabel('Actual')\n",
    "plt.ylabel('Predicted')\n",
    "plt.title('Actual vs Predicted Values')\n",
    "plt.show()\n"
   ]
  },
  {
   "cell_type": "code",
   "execution_count": 47,
   "id": "84f16b6b-a8a2-4dd6-af0f-36396404e183",
   "metadata": {},
   "outputs": [
    {
     "data": {
      "image/png": "[encoded data removed]",
      "text/plain": [
       "<Figure size 1000x600 with 1 Axes>"
      ]
     },
     "metadata": {},
     "output_type": "display_data"
    }
   ],
   "source": [
    "residuals = y_test - y_pred\n",
    "plt.figure(figsize=(10,6))\n",
    "plt.scatter(y_pred, residuals)\n",
    "plt.axhline(0, color='red', lw=2)\n",
    "plt.xlabel('Predicted')\n",
    "plt.ylabel('Residuals')\n",
    "plt.title('Residuals vs Predicted Values')\n",
    "plt.show()\n"
   ]
  },
  {
   "cell_type": "code",
   "execution_count": 48,
   "id": "e915dff3-a148-47d8-aeae-ee9920d5e562",
   "metadata": {},
   "outputs": [
    {
     "data": {
      "image/png": "[encoded data removed]",
      "text/plain": [
       "<Figure size 1000x600 with 1 Axes>"
      ]
     },
     "metadata": {},
     "output_type": "display_data"
    }
   ],
   "source": [
    "# Get feature importances\n",
    "importances = random_search.best_estimator_.feature_importances_\n",
    "indices = importances.argsort()[::-1]\n",
    "\n",
    "# Plot feature importances\n",
    "plt.figure(figsize=(10,6))\n",
    "plt.barh(x_train.columns[indices], importances[indices])\n",
    "plt.title('Feature Importances')\n",
    "plt.xlabel('Importance')\n",
    "plt.ylabel('Feature')\n",
    "plt.show()\n"
   ]
  },
  {
   "cell_type": "code",
   "execution_count": 49,
   "id": "5c86f132-61b5-4a28-ace0-25b9f7014157",
   "metadata": {},
   "outputs": [
    {
     "name": "stdout",
     "output_type": "stream",
     "text": [
      "Train R^2 Score: 0.49571711747483793\n",
      "Test R^2 Score: 0.4106319460024094\n"
     ]
    }
   ],
   "source": [
    "train_score = random_search.best_estimator_.score(x_train, y_train)\n",
    "print(f\"Train R^2 Score: {train_score}\")\n",
    "print(f\"Test R^2 Score: {test_score}\")\n",
    "\n",
    "# If training score >> test score, consider regularization, increasing data, or reducing model complexity.\n"
   ]
  },
  {
   "cell_type": "code",
   "execution_count": null,
   "id": "579b8b8b-4d74-45b3-b31d-6eaf00ac7f6e",
   "metadata": {},
   "outputs": [],
   "source": []
  },
  {
   "cell_type": "code",
   "execution_count": 50,
   "id": "ce20833e-5f67-47fd-81cd-b9bcaaccea83",
   "metadata": {},
   "outputs": [
    {
     "data": {
      "text/html": [
       "<div>\n",
       "<style scoped>\n",
       "    .dataframe tbody tr th:only-of-type {\n",
       "        vertical-align: middle;\n",
       "    }\n",
       "\n",
       "    .dataframe tbody tr th {\n",
       "        vertical-align: top;\n",
       "    }\n",
       "\n",
       "    .dataframe thead th {\n",
       "        text-align: right;\n",
       "    }\n",
       "</style>\n",
       "<table border=\"1\" class=\"dataframe\">\n",
       "  <thead>\n",
       "    <tr style=\"text-align: right;\">\n",
       "      <th></th>\n",
       "      <th>Honda</th>\n",
       "      <th>BMW</th>\n",
       "      <th>Toyota</th>\n",
       "      <th>Nissan</th>\n",
       "      <th>Condition</th>\n",
       "      <th>Odometer</th>\n",
       "      <th>Doors</th>\n",
       "    </tr>\n",
       "  </thead>\n",
       "  <tbody>\n",
       "  </tbody>\n",
       "</table>\n",
       "</div>"
      ],
      "text/plain": [
       "Empty DataFrame\n",
       "Columns: [Honda, BMW, Toyota, Nissan, Condition, Odometer, Doors]\n",
       "Index: []"
      ]
     },
     "execution_count": 50,
     "metadata": {},
     "output_type": "execute_result"
    }
   ],
   "source": [
    "transformed_x.head(0)"
   ]
  },
  {
   "cell_type": "code",
   "execution_count": 51,
   "id": "f4831c20-4f8b-40d8-90b4-8057f9c3b888",
   "metadata": {
    "jp-MarkdownHeadingCollapsed": true
   },
   "outputs": [
    {
     "data": {
      "text/plain": [
       "['C:\\\\Users\\\\91950\\\\Desktop\\\\car_price.pkl']"
      ]
     },
     "execution_count": 51,
     "metadata": {},
     "output_type": "execute_result"
    }
   ],
   "source": [
    "import joblib\n",
    "\n",
    "joblib.dump(best_model, r'C:\\Users\\91950\\Desktop\\car_price.pkl')\n"
   ]
  },
  {
   "cell_type": "code",
   "execution_count": 52,
   "id": "52e3ca1a-6379-42dc-a994-7f2b8e087eba",
   "metadata": {
    "jp-MarkdownHeadingCollapsed": true
   },
   "outputs": [],
   "source": [
    "import joblib\n",
    "\n",
    "# Load the saved model\n",
    "car_prediction_model = joblib.load(r'C:\\Users\\91950\\Desktop\\car_price.pkl')\n"
   ]
  },
  {
   "cell_type": "code",
   "execution_count": 53,
   "id": "8a4f5d9e-957e-41d1-bdc2-b2bea307012b",
   "metadata": {},
   "outputs": [
    {
     "name": "stdout",
     "output_type": "stream",
     "text": [
      "[25988.9246618]\n"
     ]
    },
    {
     "name": "stderr",
     "output_type": "stream",
     "text": [
      "C:\\Users\\91950\\Desktop\\sample_project1\\env\\lib\\site-packages\\sklearn\\base.py:464: UserWarning: X does not have valid feature names, but RandomForestRegressor was fitted with feature names\n",
      "  warnings.warn(\n"
     ]
    }
   ],
   "source": [
    "# New data (ensure it's preprocessed the same as the training data)\n",
    "new_data = [[1, 0, 0, 0, 2, 25000, 4]]  # Example new data\n",
    "\n",
    "# Make predictions\n",
    "predictions = car_prediction_model.predict(new_data)\n",
    "print(predictions)\n"
   ]
  },
  {
   "cell_type": "markdown",
   "id": "7f1d5dcf-505b-4d69-94f2-db626d2f84cc",
   "metadata": {},
   "source": [
    "\n",
    "size_mapping = {\"Small\":0,\"Medium\":1,\"Expensive\":2}\n",
    "condition_mapping = {\"Old\":0,\"Average\":1,\"Good\":2}"
   ]
  },
  {
   "cell_type": "code",
   "execution_count": 54,
   "id": "296a8ca6-9c5b-4873-807c-ccfe348b148a",
   "metadata": {},
   "outputs": [
    {
     "name": "stdout",
     "output_type": "stream",
     "text": [
      "A Nissan car with Good condition and medium category and has 250000 odometer reading and 4 doors can be a price of  $ [13074.35363837]\n"
     ]
    },
    {
     "name": "stderr",
     "output_type": "stream",
     "text": [
      "C:\\Users\\91950\\Desktop\\sample_project1\\env\\lib\\site-packages\\sklearn\\base.py:464: UserWarning: X does not have valid feature names, but RandomForestRegressor was fitted with feature names\n",
      "  warnings.warn(\n"
     ]
    }
   ],
   "source": [
    "new_data1 = [[0,0,0,1,1,250000,4]]\n",
    "predictions = car_prediction_model.predict(new_data1)\n",
    "print(\"A Nissan car with Good condition and medium category and has 250000 odometer reading and 4 doors can be a price of \" ,\"$\",predictions)"
   ]
  },
  {
   "cell_type": "code",
   "execution_count": null,
   "id": "936d3006-2bf9-4de6-8c0d-83c97b162095",
   "metadata": {},
   "outputs": [],
   "source": []
  }
 ],
 "metadata": {
  "kernelspec": {
   "display_name": "Python 3 (ipykernel)",
   "language": "python",
   "name": "python3"
  },
  "language_info": {
   "codemirror_mode": {
    "name": "ipython",
    "version": 3
   },
   "file_extension": ".py",
   "mimetype": "text/x-python",
   "name": "python",
   "nbconvert_exporter": "python",
   "pygments_lexer": "ipython3",
   "version": "3.9.18"
  }
 },
 "nbformat": 4,
 "nbformat_minor": 5
}
